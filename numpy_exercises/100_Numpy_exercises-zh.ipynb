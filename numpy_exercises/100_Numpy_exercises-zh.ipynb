{
 "cells": [
  {
   "cell_type": "markdown",
   "metadata": {},
   "source": [
    "# numpy100题练习"
   ]
  },
  {
   "cell_type": "markdown",
   "metadata": {},
   "source": [
    "运行 `initialize.py`文件，采用`hint(n)` 和 `answer(n)`命令（n是题目号），方便查询问题的解答。"
   ]
  },
  {
   "cell_type": "code",
   "execution_count": 1,
   "metadata": {},
   "outputs": [],
   "source": [
    "%run initialise.py"
   ]
  },
  {
   "cell_type": "markdown",
   "metadata": {},
   "source": [
    "## 导入numpy包并命名为`np` (★☆☆)"
   ]
  },
  {
   "cell_type": "code",
   "execution_count": 2,
   "metadata": {},
   "outputs": [],
   "source": [
    "import numpy as np\n",
    "np.random.seed(2020)"
   ]
  },
  {
   "cell_type": "markdown",
   "metadata": {},
   "source": [
    "## 打印numpy的版本和配置 (★☆☆)"
   ]
  },
  {
   "cell_type": "code",
   "execution_count": 3,
   "metadata": {},
   "outputs": [
    {
     "name": "stdout",
     "output_type": "stream",
     "text": [
      "1.18.1\n",
      "blas_mkl_info:\n",
      "  NOT AVAILABLE\n",
      "blis_info:\n",
      "  NOT AVAILABLE\n",
      "openblas_info:\n",
      "    library_dirs = ['C:\\\\projects\\\\numpy-wheels\\\\numpy\\\\build\\\\openblas_info']\n",
      "    libraries = ['openblas_info']\n",
      "    language = f77\n",
      "    define_macros = [('HAVE_CBLAS', None)]\n",
      "blas_opt_info:\n",
      "    library_dirs = ['C:\\\\projects\\\\numpy-wheels\\\\numpy\\\\build\\\\openblas_info']\n",
      "    libraries = ['openblas_info']\n",
      "    language = f77\n",
      "    define_macros = [('HAVE_CBLAS', None)]\n",
      "lapack_mkl_info:\n",
      "  NOT AVAILABLE\n",
      "openblas_lapack_info:\n",
      "    library_dirs = ['C:\\\\projects\\\\numpy-wheels\\\\numpy\\\\build\\\\openblas_lapack_info']\n",
      "    libraries = ['openblas_lapack_info']\n",
      "    language = f77\n",
      "    define_macros = [('HAVE_CBLAS', None)]\n",
      "lapack_opt_info:\n",
      "    library_dirs = ['C:\\\\projects\\\\numpy-wheels\\\\numpy\\\\build\\\\openblas_lapack_info']\n",
      "    libraries = ['openblas_lapack_info']\n",
      "    language = f77\n",
      "    define_macros = [('HAVE_CBLAS', None)]\n"
     ]
    }
   ],
   "source": [
    "print(np.__version__)\n",
    "np.show_config()"
   ]
  },
  {
   "cell_type": "markdown",
   "metadata": {},
   "source": [
    "## 创建一个长度为10的空向量(null vector) (★☆☆)"
   ]
  },
  {
   "cell_type": "code",
   "execution_count": 4,
   "metadata": {},
   "outputs": [
    {
     "name": "stdout",
     "output_type": "stream",
     "text": [
      "[0. 0. 0. 0. 0. 0. 0. 0. 0. 0.]\n"
     ]
    }
   ],
   "source": [
    "v = np.zeros(10)\n",
    "print(v)"
   ]
  },
  {
   "cell_type": "markdown",
   "metadata": {},
   "source": [
    "## 怎样去查看一个数组的内存大小?(★☆☆)"
   ]
  },
  {
   "cell_type": "code",
   "execution_count": 5,
   "metadata": {},
   "outputs": [
    {
     "name": "stdout",
     "output_type": "stream",
     "text": [
      "该数组的内存大小为800 bytes\n"
     ]
    }
   ],
   "source": [
    "v = np.zeros([10, 10])\n",
    "print(\"该数组的内存大小为%d bytes\" % (v.size * v.itemsize))"
   ]
  },
  {
   "cell_type": "markdown",
   "metadata": {},
   "source": [
    "## 怎样从命令行中获得numpy的add函数? (★☆☆)"
   ]
  },
  {
   "cell_type": "code",
   "execution_count": 6,
   "metadata": {},
   "outputs": [
    {
     "name": "stdout",
     "output_type": "stream",
     "text": [
      "add(x1, x2, /, out=None, *, where=True, casting='same_kind', order='K', dtype=None, subok=True[, signature, extobj])\n",
      "\n",
      "Add arguments element-wise.\n",
      "\n",
      "Parameters\n",
      "----------\n",
      "x1, x2 : array_like\n",
      "    The arrays to be added. If ``x1.shape != x2.shape``, they must be broadcastable to a common shape (which becomes the shape of the output).\n",
      "out : ndarray, None, or tuple of ndarray and None, optional\n",
      "    A location into which the result is stored. If provided, it must have\n",
      "    a shape that the inputs broadcast to. If not provided or None,\n",
      "    a freshly-allocated array is returned. A tuple (possible only as a\n",
      "    keyword argument) must have length equal to the number of outputs.\n",
      "where : array_like, optional\n",
      "    This condition is broadcast over the input. At locations where the\n",
      "    condition is True, the `out` array will be set to the ufunc result.\n",
      "    Elsewhere, the `out` array will retain its original value.\n",
      "    Note that if an uninitialized `out` array is created via the default\n",
      "    ``out=None``, locations within it where the condition is False will\n",
      "    remain uninitialized.\n",
      "**kwargs\n",
      "    For other keyword-only arguments, see the\n",
      "    :ref:`ufunc docs <ufuncs.kwargs>`.\n",
      "\n",
      "Returns\n",
      "-------\n",
      "add : ndarray or scalar\n",
      "    The sum of `x1` and `x2`, element-wise.\n",
      "    This is a scalar if both `x1` and `x2` are scalars.\n",
      "\n",
      "Notes\n",
      "-----\n",
      "Equivalent to `x1` + `x2` in terms of array broadcasting.\n",
      "\n",
      "Examples\n",
      "--------\n",
      ">>> np.add(1.0, 4.0)\n",
      "5.0\n",
      ">>> x1 = np.arange(9.0).reshape((3, 3))\n",
      ">>> x2 = np.arange(3.0)\n",
      ">>> np.add(x1, x2)\n",
      "array([[  0.,   2.,   4.],\n",
      "       [  3.,   5.,   7.],\n",
      "       [  6.,   8.,  10.]])\n"
     ]
    }
   ],
   "source": [
    "# %run python -c \"import numpy; numpy.info(numpy.add)\"\n",
    "np.info(np.add)"
   ]
  },
  {
   "cell_type": "markdown",
   "metadata": {},
   "source": [
    "## 创建一个长度为10的除了第五位为1其他全为0的向量 (★☆☆)"
   ]
  },
  {
   "cell_type": "code",
   "execution_count": 7,
   "metadata": {},
   "outputs": [
    {
     "name": "stdout",
     "output_type": "stream",
     "text": [
      "[0. 0. 0. 0. 1. 0. 0. 0. 0. 0.]\n"
     ]
    }
   ],
   "source": [
    "v = np.zeros(10)\n",
    "v[4] = 1\n",
    "print(v)"
   ]
  },
  {
   "cell_type": "markdown",
   "metadata": {},
   "source": [
    "## 创建一个值从10到49的向量 (★☆☆)"
   ]
  },
  {
   "cell_type": "code",
   "execution_count": 8,
   "metadata": {},
   "outputs": [
    {
     "name": "stdout",
     "output_type": "stream",
     "text": [
      "[10 11 12 13 14 15 16 17 18 19 20 21 22 23 24 25 26 27 28 29 30 31 32 33\n",
      " 34 35 36 37 38 39 40 41 42 43 44 45 46 47 48 49]\n"
     ]
    }
   ],
   "source": [
    "v = np.arange(10, 50)\n",
    "print(v)"
   ]
  },
  {
   "cell_type": "markdown",
   "metadata": {},
   "source": [
    "## 反转一个向量(使第一个元素位于最后) (★☆☆)"
   ]
  },
  {
   "cell_type": "code",
   "execution_count": 9,
   "metadata": {},
   "outputs": [
    {
     "name": "stdout",
     "output_type": "stream",
     "text": [
      "[49 48 47 46 45 44 43 42 41 40 39 38 37 36 35 34 33 32 31 30 29 28 27 26\n",
      " 25 24 23 22 21 20 19 18 17 16 15 14 13 12 11 10]\n"
     ]
    }
   ],
   "source": [
    "v = np.arange(10, 50)\n",
    "v = v[::-1]\n",
    "print(v)"
   ]
  },
  {
   "cell_type": "markdown",
   "metadata": {},
   "source": [
    "## 创建一个3x3的矩阵，值从0到8 (★☆☆)"
   ]
  },
  {
   "cell_type": "code",
   "execution_count": 10,
   "metadata": {},
   "outputs": [
    {
     "name": "stdout",
     "output_type": "stream",
     "text": [
      "[[0 1 2]\n",
      " [3 4 5]\n",
      " [6 7 8]]\n"
     ]
    }
   ],
   "source": [
    "m = np.arange(0, 9).reshape((3, 3))\n",
    "print(m)"
   ]
  },
  {
   "cell_type": "markdown",
   "metadata": {},
   "source": [
    "## 从向量[1,2,0,0,4,0]找到非0元素的index(★☆☆)"
   ]
  },
  {
   "cell_type": "code",
   "execution_count": 11,
   "metadata": {},
   "outputs": [
    {
     "name": "stdout",
     "output_type": "stream",
     "text": [
      "(array([0, 1, 4], dtype=int64),)\n"
     ]
    }
   ],
   "source": [
    "indeces = np.nonzero([1, 2, 0, 0, 4, 0])\n",
    "print(indeces)"
   ]
  },
  {
   "cell_type": "markdown",
   "metadata": {},
   "source": [
    "## 创建一个3x3的单位矩阵 (★☆☆)"
   ]
  },
  {
   "cell_type": "code",
   "execution_count": 12,
   "metadata": {},
   "outputs": [
    {
     "name": "stdout",
     "output_type": "stream",
     "text": [
      "[[1. 0. 0.]\n",
      " [0. 1. 0.]\n",
      " [0. 0. 1.]]\n"
     ]
    }
   ],
   "source": [
    "v = np.eye(3)\n",
    "print(v)"
   ]
  },
  {
   "cell_type": "markdown",
   "metadata": {},
   "source": [
    "## 创建一个3x3x3的随机矩阵 (★☆☆)"
   ]
  },
  {
   "cell_type": "code",
   "execution_count": 13,
   "metadata": {},
   "outputs": [
    {
     "data": {
      "text/plain": [
       "array([[[0.98627683, 0.87339195, 0.50974552],\n",
       "        [0.27183571, 0.33691873, 0.21695427],\n",
       "        [0.27647714, 0.34331559, 0.86215894]],\n",
       "\n",
       "       [[0.15669967, 0.14088724, 0.75708028],\n",
       "        [0.73632492, 0.35566309, 0.34109302],\n",
       "        [0.66680305, 0.21710064, 0.56142698]],\n",
       "\n",
       "       [[0.12417878, 0.31973648, 0.95321387],\n",
       "        [0.13735679, 0.5694131 , 0.97566548],\n",
       "        [0.50336706, 0.66766421, 0.0341915 ]]])"
      ]
     },
     "execution_count": 13,
     "metadata": {},
     "output_type": "execute_result"
    }
   ],
   "source": [
    "v = np.random.random((3, 3 ,3))\n",
    "v"
   ]
  },
  {
   "cell_type": "markdown",
   "metadata": {},
   "source": [
    "## 创建一个10x10的随机矩阵，找到其中的最大值和最小值 (★☆☆)"
   ]
  },
  {
   "cell_type": "code",
   "execution_count": 14,
   "metadata": {},
   "outputs": [
    {
     "name": "stdout",
     "output_type": "stream",
     "text": [
      "矩阵的最大值是 0.994458699682387\n",
      "矩阵的最小值是 0.01402672984617559\n"
     ]
    }
   ],
   "source": [
    "v = np.random.random((10, 10))\n",
    "v_max, v_min = v.max(), v.min()\n",
    "print(\"矩阵的最大值是\", v_max)\n",
    "print(\"矩阵的最小值是\", v_min)"
   ]
  },
  {
   "cell_type": "markdown",
   "metadata": {},
   "source": [
    "## 创建一个大小为30的随机向量，并找到平均值(★☆☆)"
   ]
  },
  {
   "cell_type": "code",
   "execution_count": 15,
   "metadata": {},
   "outputs": [
    {
     "name": "stdout",
     "output_type": "stream",
     "text": [
      "向量的平均值是 0.4676903094488819\n"
     ]
    }
   ],
   "source": [
    "v = np.random.random(30)\n",
    "mean = v.mean()\n",
    "print(\"向量的平均值是\", mean)"
   ]
  },
  {
   "cell_type": "markdown",
   "metadata": {},
   "source": [
    "## 创建一个二维数组，其边框均为1，内部均为0 (★☆☆)"
   ]
  },
  {
   "cell_type": "code",
   "execution_count": 16,
   "metadata": {},
   "outputs": [
    {
     "name": "stdout",
     "output_type": "stream",
     "text": [
      "[[1. 1. 1. 1. 1.]\n",
      " [1. 0. 0. 0. 1.]\n",
      " [1. 0. 0. 0. 1.]\n",
      " [1. 0. 0. 0. 1.]\n",
      " [1. 1. 1. 1. 1.]]\n"
     ]
    }
   ],
   "source": [
    "v = np.ones((5, 5))\n",
    "v[1:-1, 1:-1] = 0\n",
    "print(v)"
   ]
  },
  {
   "cell_type": "markdown",
   "metadata": {},
   "source": [
    "## 如何在现有数组周围添加边框（用0填充）？ (★☆☆)"
   ]
  },
  {
   "cell_type": "code",
   "execution_count": 17,
   "metadata": {},
   "outputs": [
    {
     "name": "stdout",
     "output_type": "stream",
     "text": [
      "Z = np.ones((5,5))\n",
      "Z = np.pad(Z, pad_width=1, mode='constant', constant_values=0)\n",
      "print(Z)\n",
      "[[0. 0. 0. 0. 0. 0. 0.]\n",
      " [0. 1. 1. 1. 1. 1. 0.]\n",
      " [0. 1. 1. 1. 1. 1. 0.]\n",
      " [0. 1. 1. 1. 1. 1. 0.]\n",
      " [0. 1. 1. 1. 1. 1. 0.]\n",
      " [0. 1. 1. 1. 1. 1. 0.]\n",
      " [0. 0. 0. 0. 0. 0. 0.]]\n"
     ]
    }
   ],
   "source": [
    "answer(16)\n",
    "v = np.ones((5, 5))\n",
    "v = np.pad(v, pad_width=1, mode='constant', constant_values= 0)\n",
    "print(v)"
   ]
  },
  {
   "cell_type": "markdown",
   "metadata": {},
   "source": [
    "## 下列表达式的输出值是什么？ (★☆☆)\n",
    "```python\n",
    "0 * np.nan\n",
    "np.nan == np.nan\n",
    "np.inf > np.nan\n",
    "np.nan - np.nan\n",
    "np.nan in set([np.nan])\n",
    "0.3 == 3 * 0.1\n",
    "```"
   ]
  },
  {
   "cell_type": "code",
   "execution_count": 18,
   "metadata": {},
   "outputs": [
    {
     "name": "stdout",
     "output_type": "stream",
     "text": [
      "nan\n",
      "False\n",
      "False\n",
      "nan\n",
      "True\n",
      "False\n"
     ]
    }
   ],
   "source": [
    "print(0 * np.nan)\n",
    "print(np.nan == np.nan)\n",
    "print(np.inf > np.nan)\n",
    "print(np.nan - np.nan)\n",
    "print(np.nan in set([np.nan]))\n",
    "print(0.3 == 3 * 0.1)"
   ]
  },
  {
   "cell_type": "markdown",
   "metadata": {},
   "source": [
    "## 创建一个5x5矩阵，值为1,2,3,4的元素刚好在对角线下方 (★☆☆)"
   ]
  },
  {
   "cell_type": "code",
   "execution_count": 19,
   "metadata": {},
   "outputs": [
    {
     "name": "stdout",
     "output_type": "stream",
     "text": [
      "[[0 0 0 0 0]\n",
      " [1 0 0 0 0]\n",
      " [0 2 0 0 0]\n",
      " [0 0 3 0 0]\n",
      " [0 0 0 4 0]]\n"
     ]
    }
   ],
   "source": [
    "v = np.diag(1+np.arange(4), k=-1)\n",
    "print(v)"
   ]
  },
  {
   "cell_type": "markdown",
   "metadata": {},
   "source": [
    "## 创建一个8x8矩阵，并将其填充为一个棋盘图案 (★☆☆)"
   ]
  },
  {
   "cell_type": "code",
   "execution_count": 20,
   "metadata": {},
   "outputs": [
    {
     "name": "stdout",
     "output_type": "stream",
     "text": [
      "[[0 1 0 1 0 1 0 1]\n",
      " [1 0 1 0 1 0 1 0]\n",
      " [0 1 0 1 0 1 0 1]\n",
      " [1 0 1 0 1 0 1 0]\n",
      " [0 1 0 1 0 1 0 1]\n",
      " [1 0 1 0 1 0 1 0]\n",
      " [0 1 0 1 0 1 0 1]\n",
      " [1 0 1 0 1 0 1 0]]\n"
     ]
    }
   ],
   "source": [
    "v = np.zeros((8, 8), dtype=int)\n",
    "v[1::2, ::2] = 1\n",
    "v[::2, 1::2] = 1\n",
    "print(v)"
   ]
  },
  {
   "cell_type": "markdown",
   "metadata": {},
   "source": [
    "## 一个(6,7,8)的数组，第100个元素的索引(x,y,z)是什么？(★☆☆)"
   ]
  },
  {
   "cell_type": "code",
   "execution_count": 21,
   "metadata": {},
   "outputs": [
    {
     "name": "stdout",
     "output_type": "stream",
     "text": [
      "(1, 5, 3)\n"
     ]
    }
   ],
   "source": [
    "print(np.unravel_index(99,(6,7,8)))"
   ]
  },
  {
   "cell_type": "markdown",
   "metadata": {},
   "source": [
    "## 使用tile函数创建8x8棋盘矩阵 (★☆☆)"
   ]
  },
  {
   "cell_type": "code",
   "execution_count": 22,
   "metadata": {},
   "outputs": [
    {
     "name": "stdout",
     "output_type": "stream",
     "text": [
      "[[0 1 0 1 0 1 0 1]\n",
      " [1 0 1 0 1 0 1 0]\n",
      " [0 1 0 1 0 1 0 1]\n",
      " [1 0 1 0 1 0 1 0]\n",
      " [0 1 0 1 0 1 0 1]\n",
      " [1 0 1 0 1 0 1 0]\n",
      " [0 1 0 1 0 1 0 1]\n",
      " [1 0 1 0 1 0 1 0]]\n"
     ]
    }
   ],
   "source": [
    "v = np.tile(np.array([[0, 1], [1, 0]]), (4, 4))\n",
    "print(v)"
   ]
  },
  {
   "cell_type": "markdown",
   "metadata": {},
   "source": [
    "## 将5x5随机矩阵标准化(★☆☆)"
   ]
  },
  {
   "cell_type": "code",
   "execution_count": 23,
   "metadata": {},
   "outputs": [
    {
     "name": "stdout",
     "output_type": "stream",
     "text": [
      "[[ 1.21860948 -1.38683116  0.93486875  0.79671189 -0.12975486]\n",
      " [-1.51118982  0.64691737 -0.99910049  1.58294403  0.25398664]\n",
      " [ 1.19400763 -0.50308009 -0.9650361   0.09036114  1.74470005]\n",
      " [ 1.35922165 -1.34826342  0.04632723  0.40221478 -1.25828359]\n",
      " [-0.30919506  0.39787125 -0.08660753 -0.85994307 -1.31145672]]\n"
     ]
    }
   ],
   "source": [
    "v = np.random.random((5, 5))\n",
    "v = (v - v.mean()) / (v.std())\n",
    "print(v)"
   ]
  },
  {
   "cell_type": "markdown",
   "metadata": {},
   "source": [
    "## 创建将颜色描述为四个无符号字节（RGBA）的自定义dtype (★☆☆)"
   ]
  },
  {
   "cell_type": "code",
   "execution_count": 24,
   "metadata": {},
   "outputs": [
    {
     "data": {
      "text/plain": [
       "dtype([('r', 'u1', (1,)), ('g', 'u1', (1,)), ('b', 'u1', (1,)), ('a', 'u1', (1,))])"
      ]
     },
     "execution_count": 24,
     "metadata": {},
     "output_type": "execute_result"
    }
   ],
   "source": [
    "color = np.dtype([(\"r\", np.ubyte, (1,)),\n",
    "                  (\"g\", np.ubyte, (1,)),\n",
    "                  (\"b\", np.ubyte, (1,)),\n",
    "                  (\"a\", np.ubyte, (1,))])\n",
    "color"
   ]
  },
  {
   "cell_type": "markdown",
   "metadata": {},
   "source": [
    "## 将5x3矩阵乘以3x2矩阵（实矩阵乘积）(★☆☆)"
   ]
  },
  {
   "cell_type": "code",
   "execution_count": 25,
   "metadata": {},
   "outputs": [
    {
     "name": "stdout",
     "output_type": "stream",
     "text": [
      "[[3. 3.]\n",
      " [3. 3.]\n",
      " [3. 3.]\n",
      " [3. 3.]\n",
      " [3. 3.]]\n"
     ]
    }
   ],
   "source": [
    "z = np.ones((5, 3)) @ np.ones((3, 2))\n",
    "print(z)"
   ]
  },
  {
   "cell_type": "markdown",
   "metadata": {},
   "source": [
    "## 给定一个1维数组，在3和8之间的所有元素取反 (★☆☆)"
   ]
  },
  {
   "cell_type": "code",
   "execution_count": 26,
   "metadata": {},
   "outputs": [
    {
     "name": "stdout",
     "output_type": "stream",
     "text": [
      "[ 0  1  2  3 -4 -5 -6 -7  8  9 10]\n"
     ]
    }
   ],
   "source": [
    "z = np.arange(11)\n",
    "z[(3 < z) & (z < 8)] *= -1\n",
    "print(z)"
   ]
  },
  {
   "cell_type": "markdown",
   "metadata": {},
   "source": [
    "## 以下代码的输出是什么? (★☆☆)\n",
    "```python\n",
    "# Author: Jake VanderPlas\n",
    "\n",
    "print(sum(range(5),-1))\n",
    "from numpy import *\n",
    "print(sum(range(5),-1))\n",
    "```"
   ]
  },
  {
   "cell_type": "code",
   "execution_count": 27,
   "metadata": {},
   "outputs": [
    {
     "name": "stdout",
     "output_type": "stream",
     "text": [
      "9\n",
      "10\n"
     ]
    }
   ],
   "source": [
    "print(sum(range(5), -1))\n",
    "print(np.sum(range(5), -1))"
   ]
  },
  {
   "cell_type": "markdown",
   "metadata": {},
   "source": [
    "## 给定一个整数向量Z，下面那些表达式是合法的? (★☆☆)\n",
    "```python\n",
    "Z**Z\n",
    "2 << Z >> 2\n",
    "Z <- Z\n",
    "1j*Z\n",
    "Z/1/1\n",
    "Z<Z>Z\n",
    "```"
   ]
  },
  {
   "cell_type": "code",
   "execution_count": 28,
   "metadata": {},
   "outputs": [
    {
     "name": "stdout",
     "output_type": "stream",
     "text": [
      "[1 2 3 4 5]\n",
      "[   1    4   27  256 3125]\n",
      "[ 1  2  4  8 16]\n",
      "[False False False False False]\n",
      "[0.+1.j 0.+2.j 0.+3.j 0.+4.j 0.+5.j]\n",
      "[1. 2. 3. 4. 5.]\n",
      "The truth value of an array with more than one element is ambiguous. Use a.any() or a.all()\n"
     ]
    }
   ],
   "source": [
    "Z = np.arange(1, 6)\n",
    "try:\n",
    "    print(Z)\n",
    "    print(Z ** Z)\n",
    "    print(2 << Z >> 2)\n",
    "    print(Z < -Z)\n",
    "    print(1j * Z)\n",
    "    print(Z/1/1)\n",
    "    print(Z<Z>Z)\n",
    "except Exception as e:\n",
    "    print(e)"
   ]
  },
  {
   "cell_type": "markdown",
   "metadata": {},
   "source": [
    "## 下列表达式的运行结果是什么?\n",
    "```python\n",
    "np.array(0) / np.array(0)\n",
    "np.array(0) // np.array(0)\n",
    "np.array([np.nan]).astype(int).astype(float)\n",
    "```"
   ]
  },
  {
   "cell_type": "code",
   "execution_count": 29,
   "metadata": {},
   "outputs": [
    {
     "name": "stdout",
     "output_type": "stream",
     "text": [
      "浮点除法（由于除以0，结果为nan）： nan\n",
      "整数除法（由于除以0，结果为0）： 0\n",
      "[-2.14748365e+09]\n"
     ]
    },
    {
     "name": "stderr",
     "output_type": "stream",
     "text": [
      "D:\\MyPythonWork\\data-analysis\\venv\\lib\\site-packages\\ipykernel_launcher.py:1: RuntimeWarning: invalid value encountered in true_divide\n",
      "  \"\"\"Entry point for launching an IPython kernel.\n",
      "D:\\MyPythonWork\\data-analysis\\venv\\lib\\site-packages\\ipykernel_launcher.py:2: RuntimeWarning: divide by zero encountered in floor_divide\n",
      "  \n"
     ]
    }
   ],
   "source": [
    "print(\"浮点除法（由于除以0，结果为nan）：\", np.array(0) / np.array(0))\n",
    "print(\"整数除法（由于除以0，结果为0）：\", np.array(0) // np.array(0))\n",
    "print(np.array([np.nan]).astype(int).astype(float))"
   ]
  },
  {
   "cell_type": "markdown",
   "metadata": {},
   "source": [
    "## 如何四舍五入一个浮点数组? (★☆☆)"
   ]
  },
  {
   "cell_type": "code",
   "execution_count": 30,
   "metadata": {
    "scrolled": true
   },
   "outputs": [
    {
     "name": "stdout",
     "output_type": "stream",
     "text": [
      "原始数组： [ 9.69644433 -9.86869135 -9.14011455  5.00163776  4.79248361  9.98089975\n",
      "  2.09177585 -6.85975869 -8.23288133  7.05125846]\n",
      "四舍五入之后的数组： [ 10. -10.  -9.   5.   5.  10.   2.  -7.  -8.   7.]\n"
     ]
    }
   ],
   "source": [
    "Z = np.random.uniform(-10,+10,10)\n",
    "print(\"原始数组：\", Z)\n",
    "print(\"四舍五入之后的数组：\", np.copysign(np.round(np.abs(Z)), Z))"
   ]
  },
  {
   "cell_type": "markdown",
   "metadata": {},
   "source": [
    "## 如何找出两个数组的公共元素？ (★☆☆)"
   ]
  },
  {
   "cell_type": "code",
   "execution_count": 31,
   "metadata": {},
   "outputs": [
    {
     "name": "stdout",
     "output_type": "stream",
     "text": [
      "Z1 = [1 6 3 4 3 1 1 1 1 5]\n",
      "Z2 = [0 6 5 8 9 4 8 0 7 9]\n",
      "公共元素： [4 5 6]\n"
     ]
    }
   ],
   "source": [
    "Z1 = np.random.randint(0, 10, 10)\n",
    "Z2 = np.random.randint(0, 10, 10)\n",
    "print(\"Z1 =\", Z1)\n",
    "print(\"Z2 =\", Z2)\n",
    "print(\"公共元素：\", np.intersect1d(Z1, Z2))"
   ]
  },
  {
   "cell_type": "markdown",
   "metadata": {},
   "source": [
    "## 如何忽略所有numpy的警告（warning）信息（不推荐）? (★☆☆)"
   ]
  },
  {
   "cell_type": "code",
   "execution_count": 32,
   "metadata": {},
   "outputs": [],
   "source": [
    "# 设置ignore模式\n",
    "defaults = np.seterr(all=\"ignore\")\n",
    "Z = np.ones(1) / 0\n",
    "# 再重新设置为默认模式\n",
    "_ = np.seterr(**defaults)"
   ]
  },
  {
   "cell_type": "code",
   "execution_count": 33,
   "metadata": {},
   "outputs": [],
   "source": [
    "# 一个等价的方式，用一个上下文管理器（context manager）：\n",
    "with np.errstate(divide='ignore'):\n",
    "    Z = np.ones(1) / 0"
   ]
  },
  {
   "cell_type": "markdown",
   "metadata": {},
   "source": [
    "## 下列表达式是为True吗?  (★☆☆)\n",
    "```python\n",
    "np.sqrt(-1) == np.emath.sqrt(-1)\n",
    "```"
   ]
  },
  {
   "cell_type": "code",
   "execution_count": 34,
   "metadata": {},
   "outputs": [
    {
     "name": "stdout",
     "output_type": "stream",
     "text": [
      "False\n"
     ]
    },
    {
     "name": "stderr",
     "output_type": "stream",
     "text": [
      "D:\\MyPythonWork\\data-analysis\\venv\\lib\\site-packages\\ipykernel_launcher.py:1: RuntimeWarning: invalid value encountered in sqrt\n",
      "  \"\"\"Entry point for launching an IPython kernel.\n"
     ]
    }
   ],
   "source": [
    "print(np.sqrt(-1) == np.emath.sqrt(-1))"
   ]
  },
  {
   "cell_type": "markdown",
   "metadata": {},
   "source": [
    "## 如何获得昨天，今天和明天的日期？ (★☆☆)"
   ]
  },
  {
   "cell_type": "code",
   "execution_count": 35,
   "metadata": {},
   "outputs": [
    {
     "name": "stdout",
     "output_type": "stream",
     "text": [
      "昨天： 2020-03-08\n",
      "今天： 2020-03-09\n",
      "明天： 2020-03-10\n"
     ]
    }
   ],
   "source": [
    "yesterday = np.datetime64('today', 'D') - np.timedelta64(1, 'D')\n",
    "today = np.datetime64('today', 'D')\n",
    "tomorrow = np.datetime64('today', 'D') + np.timedelta64(1, 'D')\n",
    "print(\"昨天：\", yesterday)\n",
    "print(\"今天：\", today)\n",
    "print(\"明天：\", tomorrow)"
   ]
  },
  {
   "cell_type": "markdown",
   "metadata": {},
   "source": [
    "## 如何获得2016年7月的所有日期 (★★☆)"
   ]
  },
  {
   "cell_type": "code",
   "execution_count": 36,
   "metadata": {},
   "outputs": [
    {
     "name": "stdout",
     "output_type": "stream",
     "text": [
      "['2016-07-01' '2016-07-02' '2016-07-03' '2016-07-04' '2016-07-05'\n",
      " '2016-07-06' '2016-07-07' '2016-07-08' '2016-07-09' '2016-07-10'\n",
      " '2016-07-11' '2016-07-12' '2016-07-13' '2016-07-14' '2016-07-15'\n",
      " '2016-07-16' '2016-07-17' '2016-07-18' '2016-07-19' '2016-07-20'\n",
      " '2016-07-21' '2016-07-22' '2016-07-23' '2016-07-24' '2016-07-25'\n",
      " '2016-07-26' '2016-07-27' '2016-07-28' '2016-07-29' '2016-07-30'\n",
      " '2016-07-31']\n"
     ]
    }
   ],
   "source": [
    "Z = np.arange('2016-07', '2016-08', dtype='datetime64[D]')\n",
    "print(Z)"
   ]
  },
  {
   "cell_type": "markdown",
   "metadata": {},
   "source": [
    "## 如何计算`((A+B)*(-A/2))`（不用其他临时变量）？ (★★☆)"
   ]
  },
  {
   "cell_type": "code",
   "execution_count": 37,
   "metadata": {},
   "outputs": [
    {
     "name": "stdout",
     "output_type": "stream",
     "text": [
      "[-1.5 -1.5 -1.5]\n"
     ]
    }
   ],
   "source": [
    "A = np.ones(3)*1\n",
    "B = np.ones(3)*2\n",
    "print((A + B) * (-A / 2))"
   ]
  },
  {
   "cell_type": "markdown",
   "metadata": {},
   "source": [
    "## 使用5种不同的方法得到随机数组的整数部分 (★★☆)"
   ]
  },
  {
   "cell_type": "code",
   "execution_count": 38,
   "metadata": {},
   "outputs": [
    {
     "name": "stdout",
     "output_type": "stream",
     "text": [
      "原始数组： [9.35124073 5.86274897 2.29322815 7.28914076 7.09990838 1.57192708\n",
      " 7.09753722 6.5276162  4.68139041 6.96824207]\n",
      "[9. 5. 2. 7. 7. 1. 7. 6. 4. 6.]\n",
      "[9. 5. 2. 7. 7. 1. 7. 6. 4. 6.]\n",
      "[9 5 2 7 7 1 7 6 4 6]\n",
      "[9. 5. 2. 7. 7. 1. 7. 6. 4. 6.]\n",
      "[9. 5. 2. 7. 7. 1. 7. 6. 4. 6.]\n",
      "[9. 5. 2. 7. 7. 1. 7. 6. 4. 6.]\n"
     ]
    }
   ],
   "source": [
    "Z = np.random.uniform(0, 10, 10)\n",
    "print(\"原始数组：\", Z)\n",
    "\n",
    "print(np.floor(Z))\n",
    "print(np.ceil(Z) - 1)\n",
    "print(Z.astype(int))\n",
    "print(Z - Z % 1)\n",
    "print(np.trunc(Z))\n",
    "print(np.fix(Z))"
   ]
  },
  {
   "cell_type": "markdown",
   "metadata": {},
   "source": [
    "## 创建一个5x5矩阵，每一行的值范围为从0到4 (★★☆)"
   ]
  },
  {
   "cell_type": "code",
   "execution_count": 39,
   "metadata": {},
   "outputs": [
    {
     "name": "stdout",
     "output_type": "stream",
     "text": [
      "[[0. 1. 2. 3. 4.]\n",
      " [0. 1. 2. 3. 4.]\n",
      " [0. 1. 2. 3. 4.]\n",
      " [0. 1. 2. 3. 4.]\n",
      " [0. 1. 2. 3. 4.]]\n"
     ]
    }
   ],
   "source": [
    "Z = np.zeros((5, 5))\n",
    "Z += np.arange(5)\n",
    "print(Z)"
   ]
  },
  {
   "cell_type": "markdown",
   "metadata": {},
   "source": [
    "## 用一个可生成10个整数的生成函数，构建一个数组(★☆☆)"
   ]
  },
  {
   "cell_type": "code",
   "execution_count": 40,
   "metadata": {},
   "outputs": [
    {
     "name": "stdout",
     "output_type": "stream",
     "text": [
      "[ 0.  2.  4.  6.  8. 10. 12. 14. 16. 18.]\n"
     ]
    }
   ],
   "source": [
    "def generate():\n",
    "    for x in range(0, 20, 2):\n",
    "        yield x\n",
    "\n",
    "Z = np.fromiter(generate(), dtype=float, count=-1)\n",
    "print(Z)"
   ]
  },
  {
   "cell_type": "markdown",
   "metadata": {},
   "source": [
    "## 创建一个大小为10的向量，其值范围从0到1，但都不包括0和1 (★★☆)"
   ]
  },
  {
   "cell_type": "code",
   "execution_count": 41,
   "metadata": {},
   "outputs": [
    {
     "name": "stdout",
     "output_type": "stream",
     "text": [
      "[0.09090909 0.18181818 0.27272727 0.36363636 0.45454545 0.54545455\n",
      " 0.63636364 0.72727273 0.81818182 0.90909091]\n"
     ]
    }
   ],
   "source": [
    "Z = np.linspace(0, 1, 12, endpoint=True)[1:-1]\n",
    "print(Z)"
   ]
  },
  {
   "cell_type": "markdown",
   "metadata": {},
   "source": [
    "## 创建一个大小为10的随机向量并对其排序 (★★☆)"
   ]
  },
  {
   "cell_type": "code",
   "execution_count": 42,
   "metadata": {},
   "outputs": [
    {
     "name": "stdout",
     "output_type": "stream",
     "text": [
      "原始数组： [0.41716292 0.21167967 0.26998065 0.45911123 0.62444253 0.86925274\n",
      " 0.80863208 0.86694944 0.56207492 0.54753291]\n",
      "排序后的数组： [0.21167967 0.26998065 0.41716292 0.45911123 0.54753291 0.56207492\n",
      " 0.62444253 0.80863208 0.86694944 0.86925274]\n"
     ]
    }
   ],
   "source": [
    "Z = np.random.random(10)\n",
    "print(\"原始数组：\", Z)\n",
    "Z.sort()\n",
    "print(\"排序后的数组：\", Z)"
   ]
  },
  {
   "cell_type": "markdown",
   "metadata": {},
   "source": [
    "## 如何对一个小数组求和，比使用np.sum更快? (★★☆)"
   ]
  },
  {
   "cell_type": "code",
   "execution_count": 43,
   "metadata": {},
   "outputs": [
    {
     "data": {
      "text/plain": [
       "45"
      ]
     },
     "execution_count": 43,
     "metadata": {},
     "output_type": "execute_result"
    }
   ],
   "source": [
    "Z = np.arange(10)\n",
    "np.add.reduce(Z)"
   ]
  },
  {
   "cell_type": "markdown",
   "metadata": {},
   "source": [
    "## 给定两个随机数组A和B，检查它们是否相等 (★★☆)"
   ]
  },
  {
   "cell_type": "code",
   "execution_count": 44,
   "metadata": {},
   "outputs": [
    {
     "name": "stdout",
     "output_type": "stream",
     "text": [
      "np.allclose(A,B)= False\n",
      "np.array_equal(A,B)= False\n"
     ]
    }
   ],
   "source": [
    "A = np.random.randint(0, 2, 5)\n",
    "B = np.random.randint(0, 2, 5)\n",
    "\n",
    "# 假设array的维度(shape)相同和一个误差容限（tolerance）\n",
    "# numpy的allclose方法，比较两个array是不是每一元素都相等，默认在1e-05的误差范围内\n",
    "equal = np.allclose(A,B)\n",
    "print(\"np.allclose(A,B)=\", equal)\n",
    "\n",
    "# 检查维度和元素值，没有误差容限（值必须完全相等）\n",
    "equal = np.array_equal(A,B)\n",
    "print(\"np.array_equal(A,B)=\", equal)"
   ]
  },
  {
   "cell_type": "markdown",
   "metadata": {},
   "source": [
    "## 使数组不可变（只读）(★★☆)"
   ]
  },
  {
   "cell_type": "code",
   "execution_count": 45,
   "metadata": {},
   "outputs": [
    {
     "name": "stdout",
     "output_type": "stream",
     "text": [
      "assignment destination is read-only\n"
     ]
    }
   ],
   "source": [
    "Z = np.zeros(10)\n",
    "Z.flags.writeable = False\n",
    "try:\n",
    "    Z[0] = 1\n",
    "except Exception as e:\n",
    "    print(e)"
   ]
  },
  {
   "cell_type": "markdown",
   "metadata": {},
   "source": [
    "## 给定一个笛卡尔坐标下的10x2随机矩阵，将它们转换为极坐标 (★★☆)"
   ]
  },
  {
   "cell_type": "markdown",
   "metadata": {},
   "source": [
    "直角坐标转换为极坐标：$$\\left\\{\\begin{array}{l} \n",
    "\\rho^2 = x^2+y^2 \\\\\n",
    "\\tan \\theta = y / x\n",
    "\\end{array} \\right.$$"
   ]
  },
  {
   "cell_type": "code",
   "execution_count": 46,
   "metadata": {},
   "outputs": [
    {
     "name": "stdout",
     "output_type": "stream",
     "text": [
      "[0.7936571  0.91515051 0.54513121 0.52785283 0.60512269 1.2144844\n",
      " 0.31751993 1.15312958 1.05454233 0.82870749]\n",
      "[0.84871636 0.40288706 0.5689557  0.24474744 1.24136968 0.76648131\n",
      " 1.35557698 0.88802125 0.68992251 0.83443572]\n"
     ]
    }
   ],
   "source": [
    "Z = np.random.random((10, 2))\n",
    "X, Y = Z[:,0], Z[:,1]\n",
    "roh = np.sqrt(X **2 + Y ** 2)\n",
    "theta = np.arctan2(Y, X)\n",
    "print(roh)\n",
    "print(theta)"
   ]
  },
  {
   "cell_type": "markdown",
   "metadata": {},
   "source": [
    "## 创建大小为10的随机向量，将最大值替换为0 (★★☆)"
   ]
  },
  {
   "cell_type": "code",
   "execution_count": 47,
   "metadata": {},
   "outputs": [
    {
     "name": "stdout",
     "output_type": "stream",
     "text": [
      "原始数组： [0.73036702 0.09577231 0.38198055 0.44024819 0.63547853 0.18855637\n",
      " 0.72641305 0.09640746 0.83393953 0.7756333 ]\n",
      "替换后的数组： [0.73036702 0.09577231 0.38198055 0.44024819 0.63547853 0.18855637\n",
      " 0.72641305 0.09640746 0.         0.7756333 ]\n"
     ]
    }
   ],
   "source": [
    "Z = np.random.random(10)\n",
    "print(\"原始数组：\", Z)\n",
    "Z[Z.argmax()] = 0\n",
    "print(\"替换后的数组：\", Z)"
   ]
  },
  {
   "cell_type": "markdown",
   "metadata": {},
   "source": [
    "## 创建一个元素为(x, y)数组，其中x和y的值都是从[0, 1]范围内 (★★☆)"
   ]
  },
  {
   "cell_type": "code",
   "execution_count": 48,
   "metadata": {},
   "outputs": [
    {
     "name": "stdout",
     "output_type": "stream",
     "text": [
      "[[(0.  , 0.  ) (0.25, 0.  ) (0.5 , 0.  ) (0.75, 0.  ) (1.  , 0.  )]\n",
      " [(0.  , 0.25) (0.25, 0.25) (0.5 , 0.25) (0.75, 0.25) (1.  , 0.25)]\n",
      " [(0.  , 0.5 ) (0.25, 0.5 ) (0.5 , 0.5 ) (0.75, 0.5 ) (1.  , 0.5 )]\n",
      " [(0.  , 0.75) (0.25, 0.75) (0.5 , 0.75) (0.75, 0.75) (1.  , 0.75)]\n",
      " [(0.  , 1.  ) (0.25, 1.  ) (0.5 , 1.  ) (0.75, 1.  ) (1.  , 1.  )]]\n"
     ]
    }
   ],
   "source": [
    "Z = np.zeros((5,5), [('x',float),('y',float)])\n",
    "Z['x'], Z['y'] = np.meshgrid(np.linspace(0,1,5),\n",
    "                             np.linspace(0,1,5))\n",
    "print(Z)"
   ]
  },
  {
   "cell_type": "markdown",
   "metadata": {},
   "source": [
    "## 给定X和Y两个数组，构造柯西（Cauchy）矩阵C (Cij =1/(xi - yj)) (★★☆)"
   ]
  },
  {
   "cell_type": "code",
   "execution_count": 49,
   "metadata": {},
   "outputs": [
    {
     "name": "stdout",
     "output_type": "stream",
     "text": [
      "3638.163637117973\n"
     ]
    }
   ],
   "source": [
    "X = np.arange(8)\n",
    "Y = X + 0.5\n",
    "C = 1.0 / np.subtract.outer(X, Y)\n",
    "# 打印矩阵C的行列式\n",
    "print(np.linalg.det(C))"
   ]
  },
  {
   "cell_type": "markdown",
   "metadata": {},
   "source": [
    "## 打印每个numpy基础类型的最小和最大的可表示值 (★★☆)"
   ]
  },
  {
   "cell_type": "code",
   "execution_count": 50,
   "metadata": {},
   "outputs": [
    {
     "name": "stdout",
     "output_type": "stream",
     "text": [
      "int8 类型的最小值：-128\n",
      "int8 类型的最大值：127\n",
      "int32 类型的最小值：-2147483648\n",
      "int32 类型的最大值：2147483647\n",
      "int64 类型的最小值：-9223372036854775808\n",
      "int64 类型的最大值：9223372036854775807\n",
      "float32 类型的最小值：-3.4028235e+38\n",
      "float32 类型的最小值：3.4028235e+38\n",
      "float32 类型的非负最小值：1.1920929e-07\n",
      "float64 类型的最小值：-1.7976931348623157e+308\n",
      "float64 类型的最小值：1.7976931348623157e+308\n",
      "float64 类型的非负最小值：2.220446049250313e-16\n"
     ]
    }
   ],
   "source": [
    "for dtype in [np.int8, np.int32, np.int64]:\n",
    "    print(\"%s 类型的最小值：%s\" % (dtype.__name__, np.iinfo(dtype).min))\n",
    "    print(\"%s 类型的最大值：%s\" % (dtype.__name__, np.iinfo(dtype).max))\n",
    "for dtype in [np.float32, np.float64]:\n",
    "    print(\"%s 类型的最小值：%s\" % (dtype.__name__, np.finfo(dtype).min))\n",
    "    print(\"%s 类型的最小值：%s\" % (dtype.__name__, np.finfo(dtype).max))\n",
    "    print(\"%s 类型的非负最小值：%s\" % (dtype.__name__, np.finfo(dtype).eps))"
   ]
  },
  {
   "cell_type": "markdown",
   "metadata": {},
   "source": [
    "## 如何打印数组所有的值？ (★★☆)"
   ]
  },
  {
   "cell_type": "code",
   "execution_count": 51,
   "metadata": {},
   "outputs": [
    {
     "name": "stdout",
     "output_type": "stream",
     "text": [
      "[[0. 0. 0. 0. 0. 0. 0. 0. 0. 0. 0. 0. 0. 0. 0. 0.]\n",
      " [0. 0. 0. 0. 0. 0. 0. 0. 0. 0. 0. 0. 0. 0. 0. 0.]\n",
      " [0. 0. 0. 0. 0. 0. 0. 0. 0. 0. 0. 0. 0. 0. 0. 0.]\n",
      " [0. 0. 0. 0. 0. 0. 0. 0. 0. 0. 0. 0. 0. 0. 0. 0.]\n",
      " [0. 0. 0. 0. 0. 0. 0. 0. 0. 0. 0. 0. 0. 0. 0. 0.]\n",
      " [0. 0. 0. 0. 0. 0. 0. 0. 0. 0. 0. 0. 0. 0. 0. 0.]\n",
      " [0. 0. 0. 0. 0. 0. 0. 0. 0. 0. 0. 0. 0. 0. 0. 0.]\n",
      " [0. 0. 0. 0. 0. 0. 0. 0. 0. 0. 0. 0. 0. 0. 0. 0.]\n",
      " [0. 0. 0. 0. 0. 0. 0. 0. 0. 0. 0. 0. 0. 0. 0. 0.]\n",
      " [0. 0. 0. 0. 0. 0. 0. 0. 0. 0. 0. 0. 0. 0. 0. 0.]\n",
      " [0. 0. 0. 0. 0. 0. 0. 0. 0. 0. 0. 0. 0. 0. 0. 0.]\n",
      " [0. 0. 0. 0. 0. 0. 0. 0. 0. 0. 0. 0. 0. 0. 0. 0.]\n",
      " [0. 0. 0. 0. 0. 0. 0. 0. 0. 0. 0. 0. 0. 0. 0. 0.]\n",
      " [0. 0. 0. 0. 0. 0. 0. 0. 0. 0. 0. 0. 0. 0. 0. 0.]\n",
      " [0. 0. 0. 0. 0. 0. 0. 0. 0. 0. 0. 0. 0. 0. 0. 0.]\n",
      " [0. 0. 0. 0. 0. 0. 0. 0. 0. 0. 0. 0. 0. 0. 0. 0.]]\n"
     ]
    }
   ],
   "source": [
    "np.set_printoptions(threshold=np.inf)\n",
    "Z = np.zeros((16,16))\n",
    "print(Z)"
   ]
  },
  {
   "cell_type": "markdown",
   "metadata": {},
   "source": [
    "## 如何在向量中找到一个最接近的值（给定一个标量值）？(★★☆)"
   ]
  },
  {
   "cell_type": "code",
   "execution_count": 52,
   "metadata": {},
   "outputs": [
    {
     "name": "stdout",
     "output_type": "stream",
     "text": [
      "给定的标量值： 21.469934526843616\n",
      "21\n"
     ]
    }
   ],
   "source": [
    "Z = np.arange(100)\n",
    "v = np.random.uniform(0, 100)\n",
    "print(\"给定的标量值：\", v)\n",
    "index = (np.abs(Z-v)).argmin()\n",
    "print(Z[index])"
   ]
  },
  {
   "cell_type": "markdown",
   "metadata": {},
   "source": [
    "## 创建表示位置(x,y)和颜色(r,g,b)的结构化数组 (★★☆)"
   ]
  },
  {
   "cell_type": "code",
   "execution_count": 53,
   "metadata": {},
   "outputs": [
    {
     "name": "stdout",
     "output_type": "stream",
     "text": [
      "[(([0.], [0.]), ([0.], [0.], [0.])) (([0.], [0.]), ([0.], [0.], [0.]))\n",
      " (([0.], [0.]), ([0.], [0.], [0.])) (([0.], [0.]), ([0.], [0.], [0.]))\n",
      " (([0.], [0.]), ([0.], [0.], [0.])) (([0.], [0.]), ([0.], [0.], [0.]))\n",
      " (([0.], [0.]), ([0.], [0.], [0.])) (([0.], [0.]), ([0.], [0.], [0.]))\n",
      " (([0.], [0.]), ([0.], [0.], [0.])) (([0.], [0.]), ([0.], [0.], [0.]))]\n"
     ]
    }
   ],
   "source": [
    "position = np.dtype([(\"x\", float, (1,)),\n",
    "                    (\"y\", float, (1,))])\n",
    "color = np.dtype([(\"r\", float, (1,)),\n",
    "                  (\"g\", float, (1,)),\n",
    "                  (\"b\", float, (1,)),])\n",
    "Z = np.zeros(10, [('position', position), ('color', color)])\n",
    "print(Z)"
   ]
  },
  {
   "cell_type": "markdown",
   "metadata": {},
   "source": [
    "## 用维度为(100,2)的随机向量表示的坐标系，计算点与点的距离  (★★☆)"
   ]
  },
  {
   "cell_type": "code",
   "execution_count": 54,
   "metadata": {},
   "outputs": [
    {
     "name": "stdout",
     "output_type": "stream",
     "text": [
      "[[0.         0.17220447 1.03484016 1.03211668 0.91958728 0.88619355\n",
      "  0.51717434 0.98375286 0.44606899 0.64709028]\n",
      " [0.17220447 0.         0.98860521 0.99211302 0.83100653 0.91717841\n",
      "  0.38828216 0.85487705 0.28553546 0.68262633]\n",
      " [1.03484016 0.98860521 0.         0.03781548 0.28654275 0.44273569\n",
      "  0.67962351 0.55302773 0.84523543 0.52287966]\n",
      " [1.03211668 0.99211302 0.03781548 0.         0.31777667 0.40925092\n",
      "  0.69390822 0.58722019 0.85875618 0.50137234]\n",
      " [0.91958728 0.83100653 0.28654275 0.31777667 0.         0.62739232\n",
      "  0.46574158 0.27586848 0.62789371 0.59621963]\n",
      " [0.88619355 0.91717841 0.44273569 0.40925092 0.62739232 0.\n",
      "  0.77268581 0.89387429 0.90673674 0.2391616 ]\n",
      " [0.51717434 0.38828216 0.67962351 0.69390822 0.46574158 0.77268581\n",
      "  0.         0.46844846 0.16610682 0.59106466]\n",
      " [0.98375286 0.85487705 0.55302773 0.58722019 0.27586848 0.89387429\n",
      "  0.46844846 0.         0.59099974 0.82607909]\n",
      " [0.44606899 0.28553546 0.84523543 0.85875618 0.62789371 0.90673674\n",
      "  0.16610682 0.59099974 0.         0.70382417]\n",
      " [0.64709028 0.68262633 0.52287966 0.50137234 0.59621963 0.2391616\n",
      "  0.59106466 0.82607909 0.70382417 0.        ]]\n"
     ]
    }
   ],
   "source": [
    "Z = np.random.random((10,2))\n",
    "X,Y = np.atleast_2d(Z[:,0], Z[:,1])\n",
    "D = np.sqrt( (X-X.T)**2 + (Y-Y.T)**2)\n",
    "print(D)"
   ]
  },
  {
   "cell_type": "code",
   "execution_count": 55,
   "metadata": {},
   "outputs": [
    {
     "name": "stdout",
     "output_type": "stream",
     "text": [
      "[[0.         0.18411221 0.2042003  0.17135026 0.37226371 0.0893311\n",
      "  0.61333672 0.28044801 0.31779409 0.54535927]\n",
      " [0.18411221 0.         0.02493209 0.30616883 0.51201454 0.15910031\n",
      "  0.48185924 0.31318673 0.46001603 0.38428423]\n",
      " [0.2042003  0.02493209 0.         0.33080306 0.53684869 0.18373397\n",
      "  0.48259389 0.30939295 0.48476578 0.37800539]\n",
      " [0.17135026 0.30616883 0.33080306 0.         0.20770699 0.1470738\n",
      "  0.6100322  0.44478716 0.15446034 0.58577136]\n",
      " [0.37226371 0.51201454 0.53684869 0.20770699 0.         0.35357525\n",
      "  0.73301396 0.62667361 0.05447342 0.74475825]\n",
      " [0.0893311  0.15910031 0.18373397 0.1470738  0.35357525 0.\n",
      "  0.53138473 0.35490792 0.30113304 0.47588318]\n",
      " [0.61333672 0.48185924 0.48259389 0.6100322  0.73301396 0.53138473\n",
      "  0.         0.79167257 0.70508908 0.15797433]\n",
      " [0.28044801 0.31318673 0.30939295 0.44478716 0.62667361 0.35490792\n",
      "  0.79167257 0.         0.57382438 0.67782701]\n",
      " [0.31779409 0.46001603 0.48476578 0.15446034 0.05447342 0.30113304\n",
      "  0.70508908 0.57382438 0.         0.70734247]\n",
      " [0.54535927 0.38428423 0.37800539 0.58577136 0.74475825 0.47588318\n",
      "  0.15797433 0.67782701 0.70734247 0.        ]]\n"
     ]
    }
   ],
   "source": [
    "# 使用scipy更快\n",
    "import scipy\n",
    "import scipy.spatial\n",
    "\n",
    "Z = np.random.random((10,2))\n",
    "D = scipy.spatial.distance.cdist(Z,Z)\n",
    "print(D)"
   ]
  },
  {
   "cell_type": "markdown",
   "metadata": {},
   "source": [
    "## 如何将float（32位）数组转换为整数（32位）？"
   ]
  },
  {
   "cell_type": "code",
   "execution_count": 56,
   "metadata": {},
   "outputs": [
    {
     "name": "stdout",
     "output_type": "stream",
     "text": [
      "原始数组： [97.931145  74.204124  30.164095  21.98578   25.577702   9.66262\n",
      " 10.632743   2.9900923 39.420517  60.219288 ]\n",
      "转换后的数组： [97 74 30 21 25  9 10  2 39 60]\n",
      "转换后的数组： [97 74 30 21 25  9 10  2 39 60]\n"
     ]
    }
   ],
   "source": [
    "Z = (np.random.rand(10)*100).astype(np.float32)\n",
    "print(\"原始数组：\", Z)\n",
    "\n",
    "# 第1种方法\n",
    "print(\"转换后的数组：\", Z.astype(np.int32))\n",
    "\n",
    "# 第2种方法\n",
    "Y = Z.view(np.int32)\n",
    "Y[:] = Z\n",
    "print(\"转换后的数组：\", Y)"
   ]
  },
  {
   "cell_type": "markdown",
   "metadata": {},
   "source": [
    "## 如何读取以下文件 (★★☆)\n",
    "```\n",
    "1, 2, 3, 4, 5\n",
    "6,  ,  , 7, 8\n",
    " ,  , 9,10,11\n",
    "```"
   ]
  },
  {
   "cell_type": "code",
   "execution_count": 57,
   "metadata": {},
   "outputs": [
    {
     "name": "stdout",
     "output_type": "stream",
     "text": [
      "[[ 1  2  3  4  5]\n",
      " [ 6 -1 -1  7  8]\n",
      " [-1 -1  9 10 11]]\n"
     ]
    }
   ],
   "source": [
    "from io import StringIO\n",
    "\n",
    "# Fake file\n",
    "s = StringIO('''1, 2, 3, 4, 5\n",
    "\n",
    "                6,  ,  , 7, 8\n",
    "\n",
    "                 ,  , 9,10,11\n",
    "''')\n",
    "Z = np.genfromtxt(s, delimiter=\",\", dtype=np.int)\n",
    "print(Z)"
   ]
  },
  {
   "cell_type": "markdown",
   "metadata": {},
   "source": [
    "## numpy数组的枚举（enumerate ）的等价方法是什么？ (★★☆)"
   ]
  },
  {
   "cell_type": "code",
   "execution_count": 58,
   "metadata": {},
   "outputs": [
    {
     "name": "stdout",
     "output_type": "stream",
     "text": [
      "(0, 0) 0\n",
      "(0, 1) 1\n",
      "(0, 2) 2\n",
      "(1, 0) 3\n",
      "(1, 1) 4\n",
      "(1, 2) 5\n",
      "(2, 0) 6\n",
      "(2, 1) 7\n",
      "(2, 2) 8\n"
     ]
    }
   ],
   "source": [
    "Z = np.arange(9).reshape(3, 3)\n",
    "for index, value in np.ndenumerate(Z):\n",
    "    print(index, value)"
   ]
  },
  {
   "cell_type": "code",
   "execution_count": 59,
   "metadata": {},
   "outputs": [
    {
     "name": "stdout",
     "output_type": "stream",
     "text": [
      "(0, 0) 0\n",
      "(0, 1) 1\n",
      "(0, 2) 2\n",
      "(1, 0) 3\n",
      "(1, 1) 4\n",
      "(1, 2) 5\n",
      "(2, 0) 6\n",
      "(2, 1) 7\n",
      "(2, 2) 8\n"
     ]
    }
   ],
   "source": [
    "for index in np.ndindex(Z.shape):\n",
    "    print(index, Z[index])"
   ]
  },
  {
   "cell_type": "markdown",
   "metadata": {},
   "source": [
    "## 生成一个通用的二维类高斯分布（Gaussian-like）数组  (★★☆)"
   ]
  },
  {
   "cell_type": "markdown",
   "metadata": {},
   "source": [
    "类高斯分布也就是2维正态分布，其概率密度函数为$$f(x)=\\frac{1}{\\sqrt{2 \\pi}\\sigma}\\exp\\left(-\\frac{(x - \\mu)^2}{2 \\sigma^2} \\right)$$"
   ]
  },
  {
   "cell_type": "code",
   "execution_count": 60,
   "metadata": {},
   "outputs": [
    {
     "name": "stdout",
     "output_type": "stream",
     "text": [
      "[[0.36787944 0.44822088 0.51979489 0.57375342 0.60279818 0.60279818\n",
      "  0.57375342 0.51979489 0.44822088 0.36787944]\n",
      " [0.44822088 0.54610814 0.63331324 0.69905581 0.73444367 0.73444367\n",
      "  0.69905581 0.63331324 0.54610814 0.44822088]\n",
      " [0.51979489 0.63331324 0.73444367 0.81068432 0.85172308 0.85172308\n",
      "  0.81068432 0.73444367 0.63331324 0.51979489]\n",
      " [0.57375342 0.69905581 0.81068432 0.89483932 0.9401382  0.9401382\n",
      "  0.89483932 0.81068432 0.69905581 0.57375342]\n",
      " [0.60279818 0.73444367 0.85172308 0.9401382  0.98773022 0.98773022\n",
      "  0.9401382  0.85172308 0.73444367 0.60279818]\n",
      " [0.60279818 0.73444367 0.85172308 0.9401382  0.98773022 0.98773022\n",
      "  0.9401382  0.85172308 0.73444367 0.60279818]\n",
      " [0.57375342 0.69905581 0.81068432 0.89483932 0.9401382  0.9401382\n",
      "  0.89483932 0.81068432 0.69905581 0.57375342]\n",
      " [0.51979489 0.63331324 0.73444367 0.81068432 0.85172308 0.85172308\n",
      "  0.81068432 0.73444367 0.63331324 0.51979489]\n",
      " [0.44822088 0.54610814 0.63331324 0.69905581 0.73444367 0.73444367\n",
      "  0.69905581 0.63331324 0.54610814 0.44822088]\n",
      " [0.36787944 0.44822088 0.51979489 0.57375342 0.60279818 0.60279818\n",
      "  0.57375342 0.51979489 0.44822088 0.36787944]]\n"
     ]
    }
   ],
   "source": [
    "X, Y = np.meshgrid(np.linspace(-1,1,10), np.linspace(-1,1,10))\n",
    "# 计算距离\n",
    "D = np.sqrt(X**2 + Y**2)\n",
    "sigma, mu = 1.0, 0.0\n",
    "G = np.exp(-( (D-mu)**2 / ( 2.0 * sigma**2 ) ) )\n",
    "print(G)"
   ]
  },
  {
   "cell_type": "markdown",
   "metadata": {},
   "source": [
    "## 如何在二维数组中随机放置p个元素？ (★★☆)"
   ]
  },
  {
   "cell_type": "code",
   "execution_count": 61,
   "metadata": {},
   "outputs": [
    {
     "name": "stdout",
     "output_type": "stream",
     "text": [
      "[[0. 0. 0. 0. 0.]\n",
      " [0. 0. 1. 0. 1.]\n",
      " [0. 0. 0. 0. 0.]\n",
      " [0. 0. 0. 0. 0.]\n",
      " [1. 0. 0. 0. 0.]]\n"
     ]
    }
   ],
   "source": [
    "n = 5\n",
    "p = 3\n",
    "Z = np.zeros((n,n))\n",
    "np.put(Z, np.random.choice(range(n*n), p, replace=False),1)\n",
    "print(Z)"
   ]
  },
  {
   "cell_type": "markdown",
   "metadata": {},
   "source": [
    "## 减去矩阵的每一行的平均值  (★★☆)"
   ]
  },
  {
   "cell_type": "code",
   "execution_count": 62,
   "metadata": {},
   "outputs": [
    {
     "name": "stdout",
     "output_type": "stream",
     "text": [
      "原始矩阵： [[0.24013738 0.50493424 0.97083263 0.04510055]\n",
      " [0.90554656 0.74333499 0.41030359 0.40420178]\n",
      " [0.11567524 0.83355686 0.42098249 0.49297828]\n",
      " [0.1535065  0.75751504 0.40706519 0.81076487]\n",
      " [0.24725183 0.22056673 0.74307841 0.09016215]]\n",
      "减去矩阵每一行平均值后的矩阵： [[-0.20011382  0.06468304  0.53058143 -0.39515065]\n",
      " [ 0.28969983  0.12748826 -0.20554314 -0.21164495]\n",
      " [-0.35012298  0.36775864 -0.04481572  0.02718006]\n",
      " [-0.3787064   0.22530214 -0.12514771  0.27855197]\n",
      " [-0.07801295 -0.10469805  0.41781363 -0.23510263]]\n"
     ]
    }
   ],
   "source": [
    "X = np.random.rand(5, 4)\n",
    "print(\"原始矩阵：\", X)\n",
    "Y = X - X.mean(axis=1, keepdims=True)\n",
    "print(\"减去矩阵每一行平均值后的矩阵：\", Y)"
   ]
  },
  {
   "cell_type": "markdown",
   "metadata": {},
   "source": [
    "## 如何按照第n列的元素大小对数组进行排序？ (★★☆)"
   ]
  },
  {
   "cell_type": "code",
   "execution_count": 63,
   "metadata": {},
   "outputs": [
    {
     "name": "stdout",
     "output_type": "stream",
     "text": [
      "原始数组： [[1 7 9]\n",
      " [9 9 0]\n",
      " [6 6 3]]\n",
      "排序后的数组： [[6 6 3]\n",
      " [1 7 9]\n",
      " [9 9 0]]\n"
     ]
    }
   ],
   "source": [
    "Z = np.random.randint(0,10,(3,3))\n",
    "print(\"原始数组：\", Z)\n",
    "print(\"排序后的数组：\", Z[ Z[:,1].argsort() ])"
   ]
  },
  {
   "cell_type": "markdown",
   "metadata": {},
   "source": [
    "## 如何判断一个给定的二维数组是否有空列？(★★☆)"
   ]
  },
  {
   "cell_type": "code",
   "execution_count": 64,
   "metadata": {},
   "outputs": [
    {
     "name": "stdout",
     "output_type": "stream",
     "text": [
      "[[0 2 1 0 1 2 2 2 2 1]\n",
      " [1 0 2 0 0 0 0 0 0 2]\n",
      " [1 2 1 1 2 2 0 1 2 2]]\n",
      "False\n"
     ]
    }
   ],
   "source": [
    "Z = np.random.randint(0, 3, (3, 10))\n",
    "print(Z)\n",
    "print((~Z.any(axis=0)).any())"
   ]
  },
  {
   "cell_type": "markdown",
   "metadata": {},
   "source": [
    "## 从数组中找出一个的最接近给定值的值 (★★☆)"
   ]
  },
  {
   "cell_type": "code",
   "execution_count": 65,
   "metadata": {},
   "outputs": [
    {
     "name": "stdout",
     "output_type": "stream",
     "text": [
      "给定的数组： [0.590568   0.27218277 0.11618866 0.21123207 0.78879179 0.22150225\n",
      " 0.27055293 0.8781676  0.84460036 0.78961642]\n",
      "最接近的值： 0.5905679972820548\n"
     ]
    }
   ],
   "source": [
    "Z = np.random.uniform(0,1,10)\n",
    "print(\"给定的数组：\", Z)\n",
    "# 给定值\n",
    "z = 0.5\n",
    "# 计算绝对值最小的值的索引\n",
    "m = Z.flat[np.abs(Z - z).argmin()]\n",
    "print(\"最接近的值：\", m)"
   ]
  },
  {
   "cell_type": "markdown",
   "metadata": {},
   "source": [
    "## 已知两个维度为(1,3)和(3,1)的数组，如何使用迭代器计算它们的和？(★★☆)"
   ]
  },
  {
   "cell_type": "code",
   "execution_count": 66,
   "metadata": {},
   "outputs": [
    {
     "name": "stdout",
     "output_type": "stream",
     "text": [
      "A= [[0]\n",
      " [1]\n",
      " [2]]\n",
      "B= [[0 1 2]]\n",
      "[[0 1 2]\n",
      " [1 2 3]\n",
      " [2 3 4]]\n"
     ]
    }
   ],
   "source": [
    "A = np.arange(3).reshape(3,1)\n",
    "print(\"A=\", A)\n",
    "B = np.arange(3).reshape(1,3)\n",
    "print(\"B=\", B)\n",
    "\n",
    "print(A + B)"
   ]
  },
  {
   "cell_type": "code",
   "execution_count": 67,
   "metadata": {},
   "outputs": [
    {
     "name": "stdout",
     "output_type": "stream",
     "text": [
      "[[0 1 2]\n",
      " [1 2 3]\n",
      " [2 3 4]]\n"
     ]
    }
   ],
   "source": [
    "it = np.nditer([A, B, None])\n",
    "for x, y, z in it:\n",
    "    z[...] = x + y\n",
    "print(it.operands[2])"
   ]
  },
  {
   "cell_type": "markdown",
   "metadata": {},
   "source": [
    "## 创建一个具有name属性的数组类(★★☆)"
   ]
  },
  {
   "cell_type": "code",
   "execution_count": 68,
   "metadata": {},
   "outputs": [
    {
     "name": "stdout",
     "output_type": "stream",
     "text": [
      "range_10\n"
     ]
    }
   ],
   "source": [
    "class NamedArray(np.ndarray):\n",
    "    def __new__(cls, array, name=\"no name\"):\n",
    "        obj = np.asarray(array).view(cls)\n",
    "        obj.name = name\n",
    "        return obj\n",
    "    def __array_finalize__(self, obj):\n",
    "        if obj is None: return\n",
    "        self.info = getattr(obj, 'name', \"no name\")\n",
    "\n",
    "Z = NamedArray(np.arange(10), \"range_10\")\n",
    "print (Z.name)"
   ]
  },
  {
   "cell_type": "markdown",
   "metadata": {},
   "source": [
    "## 已知一个给定的向量，将第二个向量作为第一个向量的索引列表，进行频度计算，即第一个向量的每个元素加1（小心重复的索引）？ (★★★)"
   ]
  },
  {
   "cell_type": "code",
   "execution_count": 69,
   "metadata": {},
   "outputs": [
    {
     "name": "stdout",
     "output_type": "stream",
     "text": [
      "已知的向量： [1. 1. 1. 1. 1. 1. 1. 1. 1. 1.]\n",
      "第2个向量： [3 9 3 6 2 3 1 8 9 9 7 1 0 8 2 8 8 5 8 5]\n",
      "[2. 3. 3. 4. 1. 3. 2. 2. 6. 4.]\n"
     ]
    }
   ],
   "source": [
    "Z = np.ones(10)\n",
    "I = np.random.randint(0,len(Z),20)\n",
    "print(\"已知的向量：\", Z)\n",
    "print(\"第2个向量：\", I)\n",
    "\n",
    "np.add.at(Z, I, 1)\n",
    "print(Z)"
   ]
  },
  {
   "cell_type": "markdown",
   "metadata": {},
   "source": [
    "## 如何根据索引列表(I)将向量(X)的元素累加到数组(F)？ (★★★)"
   ]
  },
  {
   "cell_type": "code",
   "execution_count": 70,
   "metadata": {},
   "outputs": [
    {
     "name": "stdout",
     "output_type": "stream",
     "text": [
      "[0. 7. 0. 6. 5. 0. 0. 0. 0. 3.]\n"
     ]
    }
   ],
   "source": [
    "X = [1,2,3,4,5,6]\n",
    "I = [1,3,9,3,4,1]\n",
    "F = np.bincount(I, weights=X)\n",
    "print(F)"
   ]
  },
  {
   "cell_type": "markdown",
   "metadata": {},
   "source": [
    "## 已知类型dtype为ubyte(dtype = ubyte)的(w,h,3)图像，计算不重复颜色的个数（★★★）"
   ]
  },
  {
   "cell_type": "code",
   "execution_count": 71,
   "metadata": {},
   "outputs": [
    {
     "name": "stdout",
     "output_type": "stream",
     "text": [
      "不重复的颜色个数： 4\n"
     ]
    }
   ],
   "source": [
    "w, h = 16, 16\n",
    "image = np.random.randint(0,2,(h,w,3)).astype(np.ubyte)\n",
    "F = image[...,0]*256*256 + image[...,1]*256 +image[...,2]\n",
    "n = len(np.unique(F))\n",
    "print(\"不重复的颜色个数：\", n)"
   ]
  },
  {
   "cell_type": "markdown",
   "metadata": {},
   "source": [
    "## 已知一个四维数组，如何计算最后两个轴的数据之和？(★★★)"
   ]
  },
  {
   "cell_type": "code",
   "execution_count": 72,
   "metadata": {},
   "outputs": [
    {
     "name": "stdout",
     "output_type": "stream",
     "text": [
      "[[39 45 60 48]\n",
      " [54 49 48 52]\n",
      " [59 66 50 60]]\n"
     ]
    }
   ],
   "source": [
    "A = np.random.randint(0,10,(3,4,3,4))\n",
    "\n",
    "sum = A.sum(axis=(-2,-1))\n",
    "print(sum)"
   ]
  },
  {
   "cell_type": "markdown",
   "metadata": {},
   "source": [
    "## 已知一维向量D，如何使用相同大小的向量S来计算D的子集的均值，其描述子集索引？(★★★)\n",
    "Considering a one-dimensional vector D, how to compute means of subsets of D using a vector S of same size describing subset  indices?"
   ]
  },
  {
   "cell_type": "code",
   "execution_count": 73,
   "metadata": {},
   "outputs": [
    {
     "name": "stdout",
     "output_type": "stream",
     "text": [
      "[0.58858194 0.50379731 0.40610167 0.57649067 0.52927629 0.47337903\n",
      " 0.63288386 0.36719845 0.62654042 0.50281862]\n"
     ]
    }
   ],
   "source": [
    "D = np.random.uniform(0,1,100)\n",
    "S = np.random.randint(0,10,100)\n",
    "\n",
    "D_sums = np.bincount(S, weights=D)\n",
    "D_counts = np.bincount(S)\n",
    "D_means = D_sums / D_counts\n",
    "print(D_means)"
   ]
  },
  {
   "cell_type": "code",
   "execution_count": 74,
   "metadata": {
    "scrolled": true
   },
   "outputs": [
    {
     "name": "stdout",
     "output_type": "stream",
     "text": [
      "0    0.588582\n",
      "1    0.503797\n",
      "2    0.406102\n",
      "3    0.576491\n",
      "4    0.529276\n",
      "5    0.473379\n",
      "6    0.632884\n",
      "7    0.367198\n",
      "8    0.626540\n",
      "9    0.502819\n",
      "dtype: float64\n"
     ]
    }
   ],
   "source": [
    "# Pandas solution as a reference due to more intuitive code\n",
    "import pandas as pd\n",
    "print(pd.Series(D).groupby(S).mean())"
   ]
  },
  {
   "cell_type": "markdown",
   "metadata": {},
   "source": [
    "## 如何计算矩阵点积之后的对角向量？ (★★★)"
   ]
  },
  {
   "cell_type": "code",
   "execution_count": 75,
   "metadata": {},
   "outputs": [
    {
     "data": {
      "text/plain": [
       "array([2.1987177 , 0.41551851, 1.36413864, 1.87299678, 0.75223368])"
      ]
     },
     "execution_count": 75,
     "metadata": {},
     "output_type": "execute_result"
    }
   ],
   "source": [
    "A = np.random.uniform(0,1,(5,5))\n",
    "B = np.random.uniform(0,1,(5,5))\n",
    "\n",
    "# 运行慢\n",
    "np.diag(np.dot(A, B))"
   ]
  },
  {
   "cell_type": "code",
   "execution_count": 76,
   "metadata": {},
   "outputs": [
    {
     "data": {
      "text/plain": [
       "array([2.1987177 , 0.41551851, 1.36413864, 1.87299678, 0.75223368])"
      ]
     },
     "execution_count": 76,
     "metadata": {},
     "output_type": "execute_result"
    }
   ],
   "source": [
    "# 运行快\n",
    "np.sum(A * B.T, axis=1)"
   ]
  },
  {
   "cell_type": "code",
   "execution_count": 77,
   "metadata": {},
   "outputs": [
    {
     "data": {
      "text/plain": [
       "array([2.1987177 , 0.41551851, 1.36413864, 1.87299678, 0.75223368])"
      ]
     },
     "execution_count": 77,
     "metadata": {},
     "output_type": "execute_result"
    }
   ],
   "source": [
    "# 运行更快\n",
    "np.einsum(\"ij,ji->i\", A, B)"
   ]
  },
  {
   "cell_type": "markdown",
   "metadata": {},
   "source": [
    "## 已知向量[1,2,3,4,5]，如何创建一个新的向量，使得在每个值之间间隔3个连续的零？ (★★★)"
   ]
  },
  {
   "cell_type": "code",
   "execution_count": 78,
   "metadata": {},
   "outputs": [
    {
     "name": "stdout",
     "output_type": "stream",
     "text": [
      "[1. 0. 0. 0. 2. 0. 0. 0. 3. 0. 0. 0. 4. 0. 0. 0. 5.]\n"
     ]
    }
   ],
   "source": [
    "Z = np.array([1,2,3,4,5])\n",
    "nz = 3\n",
    "# 先创建一个长度为len(Z)+(len(Z)-1)*nz的向量\n",
    "Z0 = np.zeros(len(Z) + (len(Z)-1)*(nz))\n",
    "# 将Z向量中的值，间隔nz+1填入Z0矩阵中\n",
    "Z0[::nz+1] = Z\n",
    "print(Z0)"
   ]
  },
  {
   "cell_type": "markdown",
   "metadata": {},
   "source": [
    "## 已知一个维度数组(5,5,3)，如何将它乘以一个维数为(5,5)的数组？ (★★★)"
   ]
  },
  {
   "cell_type": "code",
   "execution_count": 79,
   "metadata": {
    "scrolled": false
   },
   "outputs": [
    {
     "name": "stdout",
     "output_type": "stream",
     "text": [
      "[[[2. 2. 2.]\n",
      "  [2. 2. 2.]\n",
      "  [2. 2. 2.]\n",
      "  [2. 2. 2.]\n",
      "  [2. 2. 2.]]\n",
      "\n",
      " [[2. 2. 2.]\n",
      "  [2. 2. 2.]\n",
      "  [2. 2. 2.]\n",
      "  [2. 2. 2.]\n",
      "  [2. 2. 2.]]\n",
      "\n",
      " [[2. 2. 2.]\n",
      "  [2. 2. 2.]\n",
      "  [2. 2. 2.]\n",
      "  [2. 2. 2.]\n",
      "  [2. 2. 2.]]\n",
      "\n",
      " [[2. 2. 2.]\n",
      "  [2. 2. 2.]\n",
      "  [2. 2. 2.]\n",
      "  [2. 2. 2.]\n",
      "  [2. 2. 2.]]\n",
      "\n",
      " [[2. 2. 2.]\n",
      "  [2. 2. 2.]\n",
      "  [2. 2. 2.]\n",
      "  [2. 2. 2.]\n",
      "  [2. 2. 2.]]]\n"
     ]
    }
   ],
   "source": [
    "A = np.ones((5,5,3))\n",
    "B = 2*np.ones((5,5))\n",
    "\n",
    "print(A * B[:,:,None])"
   ]
  },
  {
   "cell_type": "markdown",
   "metadata": {},
   "source": [
    "##  如何交换数组的两行？(★★★)"
   ]
  },
  {
   "cell_type": "code",
   "execution_count": 80,
   "metadata": {},
   "outputs": [
    {
     "name": "stdout",
     "output_type": "stream",
     "text": [
      "原始数组：\n",
      " [[ 0  1  2  3  4]\n",
      " [ 5  6  7  8  9]\n",
      " [10 11 12 13 14]\n",
      " [15 16 17 18 19]\n",
      " [20 21 22 23 24]]\n",
      "交换两行之后的数组：\n",
      " [[ 5  6  7  8  9]\n",
      " [ 0  1  2  3  4]\n",
      " [10 11 12 13 14]\n",
      " [15 16 17 18 19]\n",
      " [20 21 22 23 24]]\n"
     ]
    }
   ],
   "source": [
    "A = np.arange(25).reshape(5,5)\n",
    "print(\"原始数组：\\n\", A)\n",
    "A[[0,1]] = A[[1,0]]\n",
    "print(\"交换两行之后的数组：\\n\", A)"
   ]
  },
  {
   "cell_type": "markdown",
   "metadata": {},
   "source": [
    "## 已知一组描述三角形（具有共享顶点）的10个三元组，找出组成所有三角形的唯一线段（边）的集合  (★★★) "
   ]
  },
  {
   "cell_type": "code",
   "execution_count": 81,
   "metadata": {},
   "outputs": [
    {
     "name": "stdout",
     "output_type": "stream",
     "text": [
      "已知的三元组：\n",
      " [[19  1 94]\n",
      " [87 49 77]\n",
      " [ 4 40 30]\n",
      " [38 52  5]\n",
      " [40 96 99]\n",
      " [49 29 90]\n",
      " [48 10 69]\n",
      " [73 31 66]\n",
      " [67 23 35]\n",
      " [38 99  2]]\n",
      "得到的边集合：\n",
      " [( 1, 94) ( 2, 38) ( 4, 40) ( 5, 38) (10, 69) (19,  1) (23, 35) (29, 90)\n",
      " (30,  4) (31, 66) (35, 67) (38, 52) (38, 99) (40, 30) (40, 96) (48, 10)\n",
      " (49, 29) (49, 77) (52,  5) (66, 73) (67, 23) (69, 48) (73, 31) (77, 87)\n",
      " (87, 49) (90, 49) (94, 19) (96, 99) (99,  2) (99, 40)]\n"
     ]
    }
   ],
   "source": [
    "faces = np.random.randint(0,100,(10,3))\n",
    "print(\"已知的三元组：\\n\", faces)\n",
    "# 得到所有三角形的边\n",
    "F = np.roll(faces.repeat(2,axis=1),-1,axis=1)\n",
    "F = F.reshape(len(F)*3,2)\n",
    "# 其实排序不是必要的，但给出的代码中有排序\n",
    "# F = np.sort(F,axis=1)\n",
    "# 进行表示、去重\n",
    "G = F.view( dtype=[('p0',F.dtype),('p1',F.dtype)] )\n",
    "G = np.unique(G)\n",
    "print(\"得到的边集合：\\n\", G)"
   ]
  },
  {
   "cell_type": "markdown",
   "metadata": {},
   "source": [
    "## 已知一个bincount的数组C，如何生成一个数组A，使得 np.bincount(A) == C? (★★★)"
   ]
  },
  {
   "cell_type": "code",
   "execution_count": 82,
   "metadata": {},
   "outputs": [
    {
     "name": "stdout",
     "output_type": "stream",
     "text": [
      "已知数组C： [0 2 1 1 2 0 1]\n",
      "生成的数组A： [1 1 2 3 4 4 6]\n",
      "验证结果： [ True  True  True  True  True  True  True]\n"
     ]
    }
   ],
   "source": [
    "C = np.bincount([1,1,2,3,4,4,6])\n",
    "print(\"已知数组C：\", C)\n",
    "A = np.repeat(np.arange(len(C)), C)\n",
    "print(\"生成的数组A：\", A)\n",
    "print(\"验证结果：\", np.bincount(A) == C)"
   ]
  },
  {
   "cell_type": "markdown",
   "metadata": {},
   "source": [
    "## 如何使用数组上的滑动窗口计算平均值？(★★★)"
   ]
  },
  {
   "cell_type": "code",
   "execution_count": 83,
   "metadata": {},
   "outputs": [
    {
     "name": "stdout",
     "output_type": "stream",
     "text": [
      "[ 1.  2.  3.  4.  5.  6.  7.  8.  9. 10. 11. 12. 13. 14. 15. 16. 17. 18.]\n"
     ]
    }
   ],
   "source": [
    "def moving_average(a, n=3) :\n",
    "    # 计算累加和\n",
    "    ret = np.cumsum(a, dtype=float)\n",
    "    ret[n:] = ret[n:] - ret[:-n]\n",
    "    return ret[n - 1:] / n\n",
    "\n",
    "Z = np.arange(20)\n",
    "print(moving_average(Z, n=3))"
   ]
  },
  {
   "cell_type": "markdown",
   "metadata": {},
   "source": [
    "## 已知一维数组Z，创建一个二维数组，其第一行为(Z[0],Z[1],Z[2])，后面每行移动1 个元素 (最后一行应该是Z[-3],Z[-2],Z[-1]) (★★★)"
   ]
  },
  {
   "cell_type": "code",
   "execution_count": 84,
   "metadata": {},
   "outputs": [
    {
     "name": "stdout",
     "output_type": "stream",
     "text": [
      "[[0 1 2]\n",
      " [1 2 3]\n",
      " [2 3 4]\n",
      " [3 4 5]\n",
      " [4 5 6]\n",
      " [5 6 7]\n",
      " [6 7 8]\n",
      " [7 8 9]]\n"
     ]
    }
   ],
   "source": [
    "from numpy.lib import stride_tricks\n",
    "\n",
    "def rolling(a, window):\n",
    "    shape = (a.size - window + 1, window)\n",
    "    strides = (a.itemsize, a.itemsize)\n",
    "    return stride_tricks.as_strided(a, shape=shape, strides=strides)\n",
    "Z = rolling(np.arange(10), 3)\n",
    "print(Z)"
   ]
  },
  {
   "cell_type": "markdown",
   "metadata": {},
   "source": [
    "##  如何对布尔数组取反，或改变浮点数组的符号？ (★★★)"
   ]
  },
  {
   "cell_type": "code",
   "execution_count": 85,
   "metadata": {},
   "outputs": [
    {
     "name": "stdout",
     "output_type": "stream",
     "text": [
      "[0 0 1 1 1 1 1 1 0 0 0 0 0 1 1 0 0 1 0 1 1 0 1 1 0 0 1 0 1 0 1 0 0 1 0 1 1\n",
      " 0 1 0 1 1 1 1 1 0 1 1 1 0 1 1 0 1 0 0 0 1 1 1 1 1 1 0 1 0 1 0 0 1 0 0 0 1\n",
      " 1 1 1 0 0 1 0 0 0 1 1 0 0 0 1 0 0 1 1 1 1 1 1 1 1 1]\n",
      "[ 0.83071501  0.02228517  0.03866726  0.09190128  0.80184497  0.945868\n",
      "  0.72810236 -0.40521222 -0.74849258 -0.90239468 -0.36059033  0.54202506\n",
      "  0.30953333  0.78265383  0.99725761 -0.70126231 -0.90381373 -0.24902524\n",
      "  0.68719225  0.34800352  0.78446983  0.34372014  0.11504463  0.49717187\n",
      " -0.40442564  0.40640194 -0.73431816 -0.23199119  0.59723708 -0.18585287\n",
      "  0.79252362  0.00462576 -0.00767783 -0.85437701  0.43415081  0.78977122\n",
      " -0.40998959  0.41409361 -0.88117124 -0.16403014 -0.38582876  0.97271422\n",
      "  0.97426102  0.65519626 -0.17945488 -0.93598769 -0.70886736  0.21228726\n",
      "  0.72030803  0.12977045 -0.88183195  0.34554051  0.82777409 -0.28165398\n",
      "  0.66896579  0.41280858 -0.57824251  0.60060719 -0.54708716 -0.7447967\n",
      "  0.89297343  0.44841302 -0.83999681  0.13737311 -0.07498886  0.36047733\n",
      "  0.29023129 -0.70865243  0.90942975 -0.56099731  0.72800769  0.29864851\n",
      "  0.8806266   0.79094429 -0.1403998  -0.97800132 -0.27853496 -0.04335738\n",
      "  0.74566163 -0.40541377 -0.60246767  0.43354836 -0.61739319 -0.99335207\n",
      " -0.77732338  0.3864167   0.42659184 -0.36432162  0.76004941  0.80144857\n",
      "  0.22358898 -0.65303356 -0.85607235  0.9478622   0.46658601  0.96131245\n",
      " -0.8432186  -0.63809916 -0.72366477  0.26193248]\n"
     ]
    }
   ],
   "source": [
    "# 对布尔数组取反\n",
    "Z = np.random.randint(0,2,100)\n",
    "np.logical_not(Z, out=Z)\n",
    "print(Z)\n",
    "\n",
    "# 对浮点数组取反\n",
    "Z = np.random.uniform(-1.0,1.0,100)\n",
    "print(np.negative(Z, out=Z))"
   ]
  },
  {
   "cell_type": "markdown",
   "metadata": {},
   "source": [
    "## 已知2组用二元组(P0,P1)描述线(2d)的数组和点p，如何计算从p到每条线的距离i (P0[i],P1[i]) (★★★)"
   ]
  },
  {
   "cell_type": "code",
   "execution_count": 86,
   "metadata": {
    "scrolled": false
   },
   "outputs": [
    {
     "name": "stdout",
     "output_type": "stream",
     "text": [
      "P0：\n",
      " [[-7.32416185 -8.12250974]\n",
      " [-3.83287581  3.63074306]\n",
      " [ 5.4800023   6.10831991]\n",
      " [ 9.71853315  7.04425319]\n",
      " [ 0.04802915  1.1116882 ]\n",
      " [-9.65413379 -6.01809181]\n",
      " [-0.02542329 -7.17171651]\n",
      " [ 2.04456038 -4.77836477]\n",
      " [-7.00752407  7.68416021]\n",
      " [-1.41548875  9.53262912]]\n",
      "P1：\n",
      " [[ 4.91793007  2.81814445]\n",
      " [ 4.54349647  5.23735067]\n",
      " [ 1.75508962  3.0943244 ]\n",
      " [ 3.52596161  3.10645675]\n",
      " [-7.60828476  3.37387575]\n",
      " [ 4.34380994  8.22127316]\n",
      " [ 1.18395243  7.2474722 ]\n",
      " [-2.49779062 -9.8555351 ]\n",
      " [ 8.15111291 -5.88476454]\n",
      " [-4.81816724 -1.291814  ]]\n",
      "p：\n",
      " [[-9.70466974  9.42305731]]\n",
      "点p到各线段的长度：\n",
      " [14.66875433  6.79468485 12.12830874 12.42965525  5.20722722 10.86083361\n",
      " 11.03235805 18.22533252  0.50323383  7.87481928]\n"
     ]
    }
   ],
   "source": [
    "def distance(P0, P1, p):\n",
    "    # 计算两端之间线段的长度\n",
    "    T = P1 - P0\n",
    "    L = (T**2).sum(axis=1)\n",
    "    # 求出交叉点的偏移距离\n",
    "    U = -((P0[:,0]-p[...,0])*T[:,0] + (P0[:,1]-p[...,1])*T[:,1]) / L\n",
    "    U = U.reshape(len(U),1)\n",
    "    # 计算交叉点与点p的距离\n",
    "    D = P0 + U*T - p\n",
    "    return np.sqrt((D**2).sum(axis=1))\n",
    "\n",
    "P0 = np.random.uniform(-10,10,(10,2))\n",
    "P1 = np.random.uniform(-10,10,(10,2))\n",
    "print(\"P0：\\n\", P0)\n",
    "print(\"P1：\\n\", P1)\n",
    "p  = np.random.uniform(-10,10,( 1,2))\n",
    "print(\"p：\\n\", p)\n",
    "print(\"点p到各线段的长度：\\n\", distance(P0, P1, p))"
   ]
  },
  {
   "cell_type": "markdown",
   "metadata": {},
   "source": [
    "## 已知2组用二元组(P0,P1)描述线(2d)的数组和一个点P的数组，如何计算每个点j (P[j])到每个线段的距离i (P0[i],P1[i])?(★★★)"
   ]
  },
  {
   "cell_type": "code",
   "execution_count": 87,
   "metadata": {},
   "outputs": [
    {
     "name": "stdout",
     "output_type": "stream",
     "text": [
      "P0：\n",
      " [[ 1.41587475  5.41818626]\n",
      " [ 2.07680137  7.048377  ]\n",
      " [-9.75223309 -4.51870169]\n",
      " [-9.7377465  -1.60540789]\n",
      " [ 5.30292092  5.798051  ]\n",
      " [ 5.37715177 -3.00433811]\n",
      " [ 2.81297407  8.81699011]\n",
      " [ 4.01619502  8.41885811]\n",
      " [-9.20321133 -0.08828808]\n",
      " [ 1.4447847   6.19106952]]\n",
      "P1：\n",
      " [[ 5.79089779 -7.52377095]\n",
      " [-4.36783648 -8.58537803]\n",
      " [ 6.79472154 -4.62964212]\n",
      " [-8.6314212  -3.62006533]\n",
      " [-3.84158646  7.46769795]\n",
      " [ 4.43410888 -9.49896638]\n",
      " [-9.20987808  3.98569004]\n",
      " [-1.14355837  7.99616751]\n",
      " [ 0.05819731  5.50054887]\n",
      " [ 5.63459186  8.9030579 ]]\n",
      "p：\n",
      " [[-7.16556031  9.68389055]\n",
      " [ 5.74552548 -1.05492346]\n",
      " [ 2.62910551 -6.03787137]\n",
      " [ 9.18802173  5.39190949]\n",
      " [-8.76892813 -8.3144235 ]\n",
      " [ 5.32117189  5.88770306]\n",
      " [ 8.41332572  1.1792757 ]\n",
      " [-3.71575201  2.32958835]\n",
      " [-1.38283226 -6.07039505]\n",
      " [-6.7863443  -3.74934541]]\n",
      "点p到各线段的长度：\n",
      " [[ 6.76341411  9.5492534  14.21961521  7.68858629  1.58311397 14.23579616\n",
      "   4.52502584  2.17376776  7.31400582  7.61088922]\n",
      " [ 2.02863973  6.48012161  3.56760405 13.8365947   6.66202551  0.08442646\n",
      "  10.25345277  9.58334638  8.55116431  8.41985098]\n",
      " [ 2.51942128  5.49797704  1.43612569  8.70645894 12.12369206  2.28361816\n",
      "  13.71505702 14.29521076 11.20733461 10.90954736]\n",
      " [ 7.35440733  7.20582528 10.03737209 19.95717209  0.29828712  2.564808\n",
      "   5.55511263  3.43910764  4.81011046  4.87843021]\n",
      " [14.04622757  4.17219679  3.78904399  2.38010568 16.41048161 13.23622793\n",
      "  11.57751532 15.63354475  7.26747741  6.62717357]\n",
      " [ 3.84998327  3.44186059 10.50722949 16.80638861  0.0914722   1.33315472\n",
      "   3.65326179  2.62925196  2.38773877  2.36103653]\n",
      " [ 5.27143205  8.09509217  5.81963909 17.25042063  3.98498356  2.40349296\n",
      "   9.17509908  7.57442494  8.01664468  7.9939141 ]\n",
      " [ 5.85047777  3.55697952  6.8886073   7.172553    5.03194637  9.76500269\n",
      "   3.58523782  5.43764775  0.76504834  0.43750295]\n",
      " [ 6.3304836   1.80122377  1.49554641  5.17420134 12.87629219  6.24924567\n",
      "  12.24932612 14.00006242  9.16233802  8.75682945]\n",
      " [10.7061097   4.07905922  0.78922359  1.55504644 11.56354334 11.93020581\n",
      "   8.0808793  11.24558051  4.38326343  3.87216453]]\n"
     ]
    }
   ],
   "source": [
    "P0 = np.random.uniform(-10, 10, (10,2))\n",
    "P1 = np.random.uniform(-10,10,(10,2))\n",
    "print(\"P0：\\n\", P0)\n",
    "print(\"P1：\\n\", P1)\n",
    "p = np.random.uniform(-10, 10, (10,2))\n",
    "print(\"p：\\n\", p)\n",
    "print(\"点p到各线段的长度：\\n\", np.array([distance(P0,P1,p_i) for p_i in p]))"
   ]
  },
  {
   "cell_type": "markdown",
   "metadata": {},
   "source": [
    "## 已知一个任意数组，编写一个函数，以给定元素为中心，获得具有固定维度的子数组（多余部分用fill的值填充）(★★★)"
   ]
  },
  {
   "cell_type": "code",
   "execution_count": 88,
   "metadata": {},
   "outputs": [
    {
     "name": "stdout",
     "output_type": "stream",
     "text": [
      "赋值R矩阵的位置： ([1, 1], [5, 5])\n",
      "截取Z矩阵的位置： ([0, 0], [4, 4])\n",
      "[slice(1, 5, None), slice(1, 5, None)] [slice(0, 4, None), slice(0, 4, None)]\n",
      "已知的数组：\n",
      " [[3 5 5 4 6 3 9 3 2 3]\n",
      " [4 3 1 5 1 2 6 7 4 8]\n",
      " [9 0 8 5 3 0 5 4 3 2]\n",
      " [4 6 4 0 2 4 0 4 4 7]\n",
      " [5 2 1 2 3 5 5 6 2 1]\n",
      " [8 1 2 0 9 5 6 1 7 1]\n",
      " [5 8 6 2 2 3 3 1 2 9]\n",
      " [8 6 3 8 9 7 3 3 6 7]\n",
      " [3 3 2 2 6 8 3 7 5 0]\n",
      " [4 0 6 2 3 7 9 4 7 2]]\n",
      "以 (1, 1) 为中心，维度为 (5, 5) 的子矩阵：\n",
      " [[0 0 0 0 0]\n",
      " [0 3 5 5 4]\n",
      " [0 4 3 1 5]\n",
      " [0 9 0 8 5]\n",
      " [0 4 6 4 0]]\n"
     ]
    }
   ],
   "source": [
    "# 已知的数组Z\n",
    "Z = np.random.randint(0,10,(10,10))\n",
    "# 固定维度\n",
    "shape = (5,5)\n",
    "# 填充值\n",
    "fill  = 0\n",
    "# 中心点\n",
    "position = (1,1)\n",
    "\n",
    "# 进行初始化\n",
    "R = np.ones(shape, dtype=Z.dtype)*fill\n",
    "P  = np.array(list(position)).astype(int)\n",
    "Rs = np.array(list(R.shape)).astype(int)\n",
    "Zs = np.array(list(Z.shape)).astype(int)\n",
    "\n",
    "# 初始化要从Z中获取的子矩阵大小(Z_start, Z_stop)，赋值到R矩阵里面的位置(R_start, R_stop)\n",
    "R_start = np.zeros((len(shape),)).astype(int)\n",
    "R_stop  = np.array(list(shape)).astype(int)\n",
    "Z_start = (P-Rs//2)\n",
    "Z_stop  = (P+Rs//2)+Rs%2\n",
    "\n",
    "# 修正两个位置\n",
    "R_start = (R_start - np.minimum(Z_start,0)).tolist()\n",
    "Z_start = (np.maximum(Z_start,0)).tolist()\n",
    "R_stop = np.maximum(R_start, (R_stop - np.maximum(Z_stop-Zs,0))).tolist()\n",
    "Z_stop = (np.minimum(Z_stop,Zs)).tolist()\n",
    "print(\"赋值R矩阵的位置：\", (R_start, R_stop))\n",
    "print(\"截取Z矩阵的位置：\", (Z_start, Z_stop))\n",
    "\n",
    "r = [slice(start,stop) for start,stop in zip(R_start,R_stop)]\n",
    "z = [slice(start,stop) for start,stop in zip(Z_start,Z_stop)]\n",
    "print(r, z)\n",
    "R[tuple(r)] = Z[tuple(z)]\n",
    "print(\"已知的数组：\\n\", Z)\n",
    "print(\"以\", position, \"为中心，维度为\", shape, \"的子矩阵：\\n\", R)"
   ]
  },
  {
   "cell_type": "markdown",
   "metadata": {},
   "source": [
    "## 已知一个数组 Z = [1,2,3,4,5,6,7,8,9,10,11,12,13,14]，如何生成一个数组 R = [[1,2,3,4], [2,3,4,5], [3,4,5,6], ..., [11,12,13,14]]？ (★★★)"
   ]
  },
  {
   "cell_type": "code",
   "execution_count": 89,
   "metadata": {},
   "outputs": [
    {
     "name": "stdout",
     "output_type": "stream",
     "text": [
      "[[ 1  2  3  4]\n",
      " [ 2  3  4  5]\n",
      " [ 3  4  5  6]\n",
      " [ 4  5  6  7]\n",
      " [ 5  6  7  8]\n",
      " [ 6  7  8  9]\n",
      " [ 7  8  9 10]\n",
      " [ 8  9 10 11]\n",
      " [ 9 10 11 12]\n",
      " [10 11 12 13]\n",
      " [11 12 13 14]]\n"
     ]
    }
   ],
   "source": [
    "Z = np.arange(1, 15, dtype=np.int32)\n",
    "R = np.lib.stride_tricks.as_strided(Z, (11, 4), (4, 4))\n",
    "print(R)"
   ]
  },
  {
   "cell_type": "markdown",
   "metadata": {},
   "source": [
    "## 计算矩阵的秩 (★★★)"
   ]
  },
  {
   "cell_type": "code",
   "execution_count": 90,
   "metadata": {},
   "outputs": [
    {
     "name": "stdout",
     "output_type": "stream",
     "text": [
      "10\n"
     ]
    }
   ],
   "source": [
    "Z = np.random.uniform(0,1,(10,10))\n",
    "# 采用SVD分解，得到特征向量\n",
    "U, S, V = np.linalg.svd(Z) \n",
    "# 计算非零元素的个数\n",
    "rank = np.sum(S > 1e-10)\n",
    "print(rank)"
   ]
  },
  {
   "cell_type": "code",
   "execution_count": 91,
   "metadata": {},
   "outputs": [
    {
     "name": "stdout",
     "output_type": "stream",
     "text": [
      "10\n"
     ]
    }
   ],
   "source": [
    "print(np.linalg.matrix_rank(Z))"
   ]
  },
  {
   "cell_type": "markdown",
   "metadata": {},
   "source": [
    "## 如何在数组中找到最常见（频度最高）的值？ (★★★)"
   ]
  },
  {
   "cell_type": "code",
   "execution_count": 92,
   "metadata": {},
   "outputs": [
    {
     "name": "stdout",
     "output_type": "stream",
     "text": [
      "已知数组Z：\n",
      " [5 3 3 2 1 1 7 4 5 0 1 5 3 1 5 8 5 3 1 2 8 5 9 1 2 7 3 7 9 5 6 0 6 2 1 1 5\n",
      " 9 5 7 3 1 4 4 4 1 9 5 8 1]\n",
      "计算频度：\n",
      " [ 2 11  4  6  4 10  2  4  3  4]\n",
      "频度最高的值： 1\n"
     ]
    }
   ],
   "source": [
    "Z = np.random.randint(0,10,50)\n",
    "print(\"已知数组Z：\\n\", Z)\n",
    "# 采用np.bincount(Z)计算频度，取最高的值\n",
    "print(\"计算频度：\\n\", np.bincount(Z))\n",
    "print(\"频度最高的值：\", np.bincount(Z).argmax())"
   ]
  },
  {
   "cell_type": "markdown",
   "metadata": {},
   "source": [
    "## 从10x10随机矩阵中得到所有连续的3x3子矩阵 (★★★)"
   ]
  },
  {
   "cell_type": "code",
   "execution_count": 93,
   "metadata": {},
   "outputs": [
    {
     "name": "stdout",
     "output_type": "stream",
     "text": [
      "[[[[4 3 2]\n",
      "   [3 0 3]\n",
      "   [0 1 0]]\n",
      "\n",
      "  [[3 2 1]\n",
      "   [0 3 4]\n",
      "   [1 0 4]]\n",
      "\n",
      "  [[2 1 0]\n",
      "   [3 4 1]\n",
      "   [0 4 0]]\n",
      "\n",
      "  [[1 0 0]\n",
      "   [4 1 0]\n",
      "   [4 0 0]]\n",
      "\n",
      "  [[0 0 3]\n",
      "   [1 0 2]\n",
      "   [0 0 1]]\n",
      "\n",
      "  [[0 3 3]\n",
      "   [0 2 3]\n",
      "   [0 1 3]]\n",
      "\n",
      "  [[3 3 1]\n",
      "   [2 3 3]\n",
      "   [1 3 3]]\n",
      "\n",
      "  [[3 1 0]\n",
      "   [3 3 2]\n",
      "   [3 3 3]]]\n",
      "\n",
      "\n",
      " [[[3 0 3]\n",
      "   [0 1 0]\n",
      "   [0 1 1]]\n",
      "\n",
      "  [[0 3 4]\n",
      "   [1 0 4]\n",
      "   [1 1 3]]\n",
      "\n",
      "  [[3 4 1]\n",
      "   [0 4 0]\n",
      "   [1 3 3]]\n",
      "\n",
      "  [[4 1 0]\n",
      "   [4 0 0]\n",
      "   [3 3 4]]\n",
      "\n",
      "  [[1 0 2]\n",
      "   [0 0 1]\n",
      "   [3 4 0]]\n",
      "\n",
      "  [[0 2 3]\n",
      "   [0 1 3]\n",
      "   [4 0 3]]\n",
      "\n",
      "  [[2 3 3]\n",
      "   [1 3 3]\n",
      "   [0 3 2]]\n",
      "\n",
      "  [[3 3 2]\n",
      "   [3 3 3]\n",
      "   [3 2 2]]]\n",
      "\n",
      "\n",
      " [[[0 1 0]\n",
      "   [0 1 1]\n",
      "   [0 0 3]]\n",
      "\n",
      "  [[1 0 4]\n",
      "   [1 1 3]\n",
      "   [0 3 4]]\n",
      "\n",
      "  [[0 4 0]\n",
      "   [1 3 3]\n",
      "   [3 4 3]]\n",
      "\n",
      "  [[4 0 0]\n",
      "   [3 3 4]\n",
      "   [4 3 0]]\n",
      "\n",
      "  [[0 0 1]\n",
      "   [3 4 0]\n",
      "   [3 0 0]]\n",
      "\n",
      "  [[0 1 3]\n",
      "   [4 0 3]\n",
      "   [0 0 0]]\n",
      "\n",
      "  [[1 3 3]\n",
      "   [0 3 2]\n",
      "   [0 0 4]]\n",
      "\n",
      "  [[3 3 3]\n",
      "   [3 2 2]\n",
      "   [0 4 4]]]\n",
      "\n",
      "\n",
      " [[[0 1 1]\n",
      "   [0 0 3]\n",
      "   [0 1 3]]\n",
      "\n",
      "  [[1 1 3]\n",
      "   [0 3 4]\n",
      "   [1 3 2]]\n",
      "\n",
      "  [[1 3 3]\n",
      "   [3 4 3]\n",
      "   [3 2 2]]\n",
      "\n",
      "  [[3 3 4]\n",
      "   [4 3 0]\n",
      "   [2 2 0]]\n",
      "\n",
      "  [[3 4 0]\n",
      "   [3 0 0]\n",
      "   [2 0 4]]\n",
      "\n",
      "  [[4 0 3]\n",
      "   [0 0 0]\n",
      "   [0 4 0]]\n",
      "\n",
      "  [[0 3 2]\n",
      "   [0 0 4]\n",
      "   [4 0 3]]\n",
      "\n",
      "  [[3 2 2]\n",
      "   [0 4 4]\n",
      "   [0 3 2]]]\n",
      "\n",
      "\n",
      " [[[0 0 3]\n",
      "   [0 1 3]\n",
      "   [3 2 2]]\n",
      "\n",
      "  [[0 3 4]\n",
      "   [1 3 2]\n",
      "   [2 2 1]]\n",
      "\n",
      "  [[3 4 3]\n",
      "   [3 2 2]\n",
      "   [2 1 1]]\n",
      "\n",
      "  [[4 3 0]\n",
      "   [2 2 0]\n",
      "   [1 1 2]]\n",
      "\n",
      "  [[3 0 0]\n",
      "   [2 0 4]\n",
      "   [1 2 3]]\n",
      "\n",
      "  [[0 0 0]\n",
      "   [0 4 0]\n",
      "   [2 3 1]]\n",
      "\n",
      "  [[0 0 4]\n",
      "   [4 0 3]\n",
      "   [3 1 4]]\n",
      "\n",
      "  [[0 4 4]\n",
      "   [0 3 2]\n",
      "   [1 4 2]]]\n",
      "\n",
      "\n",
      " [[[0 1 3]\n",
      "   [3 2 2]\n",
      "   [0 0 3]]\n",
      "\n",
      "  [[1 3 2]\n",
      "   [2 2 1]\n",
      "   [0 3 2]]\n",
      "\n",
      "  [[3 2 2]\n",
      "   [2 1 1]\n",
      "   [3 2 0]]\n",
      "\n",
      "  [[2 2 0]\n",
      "   [1 1 2]\n",
      "   [2 0 3]]\n",
      "\n",
      "  [[2 0 4]\n",
      "   [1 2 3]\n",
      "   [0 3 4]]\n",
      "\n",
      "  [[0 4 0]\n",
      "   [2 3 1]\n",
      "   [3 4 3]]\n",
      "\n",
      "  [[4 0 3]\n",
      "   [3 1 4]\n",
      "   [4 3 3]]\n",
      "\n",
      "  [[0 3 2]\n",
      "   [1 4 2]\n",
      "   [3 3 2]]]\n",
      "\n",
      "\n",
      " [[[3 2 2]\n",
      "   [0 0 3]\n",
      "   [1 1 3]]\n",
      "\n",
      "  [[2 2 1]\n",
      "   [0 3 2]\n",
      "   [1 3 1]]\n",
      "\n",
      "  [[2 1 1]\n",
      "   [3 2 0]\n",
      "   [3 1 4]]\n",
      "\n",
      "  [[1 1 2]\n",
      "   [2 0 3]\n",
      "   [1 4 3]]\n",
      "\n",
      "  [[1 2 3]\n",
      "   [0 3 4]\n",
      "   [4 3 2]]\n",
      "\n",
      "  [[2 3 1]\n",
      "   [3 4 3]\n",
      "   [3 2 3]]\n",
      "\n",
      "  [[3 1 4]\n",
      "   [4 3 3]\n",
      "   [2 3 2]]\n",
      "\n",
      "  [[1 4 2]\n",
      "   [3 3 2]\n",
      "   [3 2 3]]]\n",
      "\n",
      "\n",
      " [[[0 0 3]\n",
      "   [1 1 3]\n",
      "   [4 3 0]]\n",
      "\n",
      "  [[0 3 2]\n",
      "   [1 3 1]\n",
      "   [3 0 3]]\n",
      "\n",
      "  [[3 2 0]\n",
      "   [3 1 4]\n",
      "   [0 3 1]]\n",
      "\n",
      "  [[2 0 3]\n",
      "   [1 4 3]\n",
      "   [3 1 1]]\n",
      "\n",
      "  [[0 3 4]\n",
      "   [4 3 2]\n",
      "   [1 1 3]]\n",
      "\n",
      "  [[3 4 3]\n",
      "   [3 2 3]\n",
      "   [1 3 4]]\n",
      "\n",
      "  [[4 3 3]\n",
      "   [2 3 2]\n",
      "   [3 4 0]]\n",
      "\n",
      "  [[3 3 2]\n",
      "   [3 2 3]\n",
      "   [4 0 1]]]]\n"
     ]
    }
   ],
   "source": [
    "Z = np.random.randint(0,5,(10,10))\n",
    "n = 3\n",
    "i = 1 + (Z.shape[0]-3)\n",
    "j = 1 + (Z.shape[1]-3)\n",
    "C = np.lib.stride_tricks.as_strided(Z, shape=(i, j, n, n), strides=Z.strides + Z.strides)\n",
    "print(C)"
   ]
  },
  {
   "cell_type": "markdown",
   "metadata": {},
   "source": [
    "##  创建一个二维数组子类，使得Z[i,j] == Z[j,i] （即对角矩阵）(★★★)"
   ]
  },
  {
   "cell_type": "code",
   "execution_count": 94,
   "metadata": {},
   "outputs": [
    {
     "name": "stdout",
     "output_type": "stream",
     "text": [
      "已知二维矩阵：\n",
      " [[2 3 2 7 3]\n",
      " [1 7 8 4 5]\n",
      " [1 2 2 6 6]\n",
      " [8 8 6 7 1]\n",
      " [1 4 8 4 8]]\n",
      "生成矩阵：\n",
      " [[ 2  4  3 15  4]\n",
      " [ 4  7 10 12  9]\n",
      " [ 3 10  2 12 14]\n",
      " [15 12 12  7  5]\n",
      " [ 4  9 14  5  8]]\n"
     ]
    }
   ],
   "source": [
    "class Symetric(np.ndarray):\n",
    "    def __setitem__(self, index, value):\n",
    "        i,j = index\n",
    "        super(Symetric, self).__setitem__((i,j), value)\n",
    "        super(Symetric, self).__setitem__((j,i), value)\n",
    "\n",
    "def symetric(Z):\n",
    "    return np.asarray(Z + Z.T - np.diag(Z.diagonal())).view(Symetric)\n",
    "\n",
    "Z = np.random.randint(0,10,(5,5))\n",
    "print(\"已知二维矩阵：\\n\", Z)\n",
    "S = symetric(Z)\n",
    "print(\"生成矩阵：\\n\", S)"
   ]
  },
  {
   "cell_type": "markdown",
   "metadata": {},
   "source": [
    "## 已知一组维度为(n,n)的p矩阵和一组维度为(n,1)的p向量，如何通过一次计算得到矩阵乘积之后的各矩阵和？（结果矩阵的维度为(n,1)）(★★★)"
   ]
  },
  {
   "cell_type": "code",
   "execution_count": 95,
   "metadata": {},
   "outputs": [
    {
     "name": "stdout",
     "output_type": "stream",
     "text": [
      "[[50.]\n",
      " [50.]\n",
      " [50.]\n",
      " [50.]\n",
      " [50.]\n",
      " [50.]\n",
      " [50.]\n",
      " [50.]\n",
      " [50.]\n",
      " [50.]]\n"
     ]
    }
   ],
   "source": [
    "p, n = 5, 10\n",
    "M = np.ones((p,n,n))\n",
    "V = np.ones((p,n,1))\n",
    "S = np.tensordot(M, V, axes=[[0, 2], [0, 1]])\n",
    "print(S)"
   ]
  },
  {
   "cell_type": "markdown",
   "metadata": {},
   "source": [
    "## 已知一个16x16的矩阵，如何获得子矩阵的和？（子矩阵大小为4x4） (★★★)"
   ]
  },
  {
   "cell_type": "code",
   "execution_count": 96,
   "metadata": {},
   "outputs": [
    {
     "name": "stdout",
     "output_type": "stream",
     "text": [
      "[[16. 16. 16. 16.]\n",
      " [16. 16. 16. 16.]\n",
      " [16. 16. 16. 16.]\n",
      " [16. 16. 16. 16.]]\n"
     ]
    }
   ],
   "source": [
    "Z = np.ones((16,16))\n",
    "k = 4\n",
    "S = np.add.reduceat(np.add.reduceat(Z, np.arange(0, Z.shape[0], k), axis=0),\n",
    "                                       np.arange(0, Z.shape[1], k), axis=1)\n",
    "print(S)"
   ]
  },
  {
   "cell_type": "markdown",
   "metadata": {},
   "source": [
    "## 如何使用numpy数组实现游戏生命（the Game of Life）？(★★★)\n",
    "\n",
    "The Game Of Life（生命游戏，又称为细胞自动机）几乎是所有数据结构与算法导论教程前言的一个很经典的程序了。这是一个零玩家游戏，发生在一个平面网格里。每个格子的细胞都有死亡和存活两种状态，在代与代之间有两种状态，如果每一个细胞周围少于或等于1个细胞或多于4个细胞时，他会在下一代死亡；如果一个格子周围恰好有3个细胞，他将会重新活过来。"
   ]
  },
  {
   "cell_type": "code",
   "execution_count": 97,
   "metadata": {
    "scrolled": true
   },
   "outputs": [
    {
     "name": "stdout",
     "output_type": "stream",
     "text": [
      "[[0 0 0 0 0 0 0 0 0 0]\n",
      " [0 0 0 0 0 0 0 0 0 0]\n",
      " [0 0 0 0 0 0 0 0 0 0]\n",
      " [0 0 0 0 0 0 0 0 0 0]\n",
      " [0 0 0 0 0 0 0 0 0 0]\n",
      " [0 0 0 0 0 0 0 0 0 0]\n",
      " [0 0 0 0 0 1 1 0 0 0]\n",
      " [0 0 0 0 0 1 1 0 0 0]\n",
      " [0 0 0 0 0 0 0 0 0 0]\n",
      " [0 0 0 0 0 0 0 0 0 0]]\n"
     ]
    }
   ],
   "source": [
    "def iterate(Z):\n",
    "    # Count neighbours\n",
    "    N = (Z[0:-2,0:-2] + Z[0:-2,1:-1] + Z[0:-2,2:] +\n",
    "         Z[1:-1,0:-2]                + Z[1:-1,2:] +\n",
    "         Z[2:  ,0:-2] + Z[2:  ,1:-1] + Z[2:  ,2:])\n",
    "\n",
    "    # Apply rules\n",
    "    birth = (N==3) & (Z[1:-1,1:-1]==0)\n",
    "    survive = ((N==2) | (N==3)) & (Z[1:-1,1:-1]==1)\n",
    "    Z[...] = 0\n",
    "    Z[1:-1,1:-1][birth | survive] = 1\n",
    "    return Z\n",
    "\n",
    "Z = np.random.randint(0,2,(10,10))\n",
    "for i in range(100): \n",
    "    Z = iterate(Z)\n",
    "print(Z)"
   ]
  },
  {
   "cell_type": "markdown",
   "metadata": {},
   "source": [
    "## 如何获取数组的n个最大值 (★★★)"
   ]
  },
  {
   "cell_type": "code",
   "execution_count": 98,
   "metadata": {},
   "outputs": [
    {
     "name": "stdout",
     "output_type": "stream",
     "text": [
      "[9995 9996 9997 9998 9999]\n"
     ]
    }
   ],
   "source": [
    "Z = np.arange(10000)\n",
    "np.random.shuffle(Z)\n",
    "n = 5\n",
    "\n",
    "# 运行慢\n",
    "print (Z[np.argsort(Z)[-n:]])"
   ]
  },
  {
   "cell_type": "code",
   "execution_count": 99,
   "metadata": {},
   "outputs": [
    {
     "name": "stdout",
     "output_type": "stream",
     "text": [
      "[9997 9998 9999 9996 9995]\n"
     ]
    }
   ],
   "source": [
    "# 运行快\n",
    "print (Z[np.argpartition(-Z,n)[:n]])"
   ]
  },
  {
   "cell_type": "markdown",
   "metadata": {},
   "source": [
    "## 给定多个不同维度的向量，构建笛卡尔积（即从每个向量中取出一个元素组成一个向量）(★★★)"
   ]
  },
  {
   "cell_type": "code",
   "execution_count": 100,
   "metadata": {},
   "outputs": [
    {
     "name": "stdout",
     "output_type": "stream",
     "text": [
      "[[1 4 6]\n",
      " [1 4 7]\n",
      " [1 5 6]\n",
      " [1 5 7]\n",
      " [2 4 6]\n",
      " [2 4 7]\n",
      " [2 5 6]\n",
      " [2 5 7]\n",
      " [3 4 6]\n",
      " [3 4 7]\n",
      " [3 5 6]\n",
      " [3 5 7]]\n"
     ]
    }
   ],
   "source": [
    "def cartesian(arrays):\n",
    "    arrays = [np.asarray(a) for a in arrays]\n",
    "    shape = (len(x) for x in arrays)\n",
    "    \n",
    "    # 得到生成笛卡尔积的每个数组的index数组\n",
    "    ix = np.indices(shape, dtype=int)\n",
    "    ix = ix.reshape(len(arrays), -1).T\n",
    "    for n, arr in enumerate(arrays):\n",
    "        ix[:, n] = arrays[n][ix[:, n]]\n",
    "\n",
    "    return ix\n",
    "\n",
    "print (cartesian(([1, 2, 3], [4, 5], [6, 7])))"
   ]
  },
  {
   "cell_type": "markdown",
   "metadata": {},
   "source": [
    "## 如何从常规数组创建记录数组？ (★★★)\n",
    "How to create a record array from a regular array?"
   ]
  },
  {
   "cell_type": "code",
   "execution_count": 101,
   "metadata": {},
   "outputs": [
    {
     "name": "stdout",
     "output_type": "stream",
     "text": [
      "[(b'Hello', 2.5, 3) (b'World', 3.6, 2)]\n"
     ]
    }
   ],
   "source": [
    "Z = np.array([(\"Hello\", 2.5, 3),\n",
    "              (\"World\", 3.6, 2)])\n",
    "R = np.core.records.fromarrays(Z.T,\n",
    "                               names='col1, col2, col3',\n",
    "                               formats = 'S8, f8, i8')\n",
    "print(R)"
   ]
  },
  {
   "cell_type": "markdown",
   "metadata": {},
   "source": [
    "## 已知一个维度很大的向量Z，使用3种不同的方法计算Z的3次幂(★★★)"
   ]
  },
  {
   "cell_type": "code",
   "execution_count": 102,
   "metadata": {},
   "outputs": [
    {
     "name": "stdout",
     "output_type": "stream",
     "text": [
      "2.34 s ± 47.9 ms per loop (mean ± std. dev. of 7 runs, 1 loop each)\n",
      "380 ms ± 12.1 ms per loop (mean ± std. dev. of 7 runs, 1 loop each)\n",
      "231 ms ± 4.79 ms per loop (mean ± std. dev. of 7 runs, 1 loop each)\n"
     ]
    }
   ],
   "source": [
    "x = np.random.rand(int(5e7))\n",
    "\n",
    "%timeit np.power(x,3)\n",
    "%timeit x*x*x\n",
    "%timeit np.einsum('i,i,i->i',x,x,x)"
   ]
  },
  {
   "cell_type": "markdown",
   "metadata": {},
   "source": [
    "## 已知维度为 (8,3) 和 (2,2) 的两个矩阵A和B，如何查找在B矩阵中的各行元素出现在A矩阵中，且不考虑B中元素的顺序？(★★★)"
   ]
  },
  {
   "cell_type": "code",
   "execution_count": 103,
   "metadata": {},
   "outputs": [
    {
     "name": "stdout",
     "output_type": "stream",
     "text": [
      "A矩阵：\n",
      " [[4 0 0]\n",
      " [0 4 2]\n",
      " [4 0 2]\n",
      " [2 4 3]\n",
      " [2 4 1]\n",
      " [1 2 1]\n",
      " [4 3 4]\n",
      " [0 0 4]]\n",
      "B矩阵：\n",
      " [[4 3]\n",
      " [2 0]]\n",
      "在A矩阵中满足条件的行：\n",
      " [0 1 2 3 4 7]\n"
     ]
    }
   ],
   "source": [
    "A = np.random.randint(0,5,(8,3))\n",
    "B = np.random.randint(0,5,(2,2))\n",
    "print(\"A矩阵：\\n\", A)\n",
    "print(\"B矩阵：\\n\", B)\n",
    "\n",
    "C = (A[..., np.newaxis, np.newaxis] == B)\n",
    "rows = np.where(C.any((3,1)).all(1))[0]\n",
    "print(\"在A矩阵中满足条件的行：\\n\", rows)"
   ]
  },
  {
   "cell_type": "markdown",
   "metadata": {},
   "source": [
    "## 已知一个10x3的矩阵，获取具有不同值的行 (e.g. [2,2,3]) (★★★)"
   ]
  },
  {
   "cell_type": "code",
   "execution_count": 104,
   "metadata": {},
   "outputs": [
    {
     "name": "stdout",
     "output_type": "stream",
     "text": [
      "矩阵Z(10x3)：\n",
      " [[1 0 1]\n",
      " [0 0 0]\n",
      " [0 0 1]\n",
      " [1 1 0]\n",
      " [0 0 0]\n",
      " [0 0 1]\n",
      " [1 0 0]\n",
      " [1 0 0]\n",
      " [0 0 1]\n",
      " [0 0 0]]\n",
      "不同值的行：\n",
      " [[1 0 1]\n",
      " [0 0 1]\n",
      " [1 1 0]\n",
      " [0 0 1]\n",
      " [1 0 0]\n",
      " [1 0 0]\n",
      " [0 0 1]]\n"
     ]
    }
   ],
   "source": [
    "Z = np.random.randint(0,2,(10,3))\n",
    "print(\"矩阵Z(10x3)：\\n\", Z)\n",
    "# 可用于处理所有数据类型的数组（包括字符串数组和记录数组）\n",
    "E = np.all(Z[:,1:] == Z[:,:-1], axis=1)\n",
    "U = Z[~E]\n",
    "print(\"不同值的行：\\n\", U)"
   ]
  },
  {
   "cell_type": "code",
   "execution_count": 105,
   "metadata": {},
   "outputs": [
    {
     "name": "stdout",
     "output_type": "stream",
     "text": [
      "不同值的行：\n",
      " [[1 0 1]\n",
      " [0 0 1]\n",
      " [1 1 0]\n",
      " [0 0 1]\n",
      " [1 0 0]\n",
      " [1 0 0]\n",
      " [0 0 1]]\n"
     ]
    }
   ],
   "source": [
    "# 只适用于数值数组，适用于Z中任意数量的列\n",
    "U = Z[Z.max(axis=1) != Z.min(axis=1),:]\n",
    "print(\"不同值的行：\\n\", U)"
   ]
  },
  {
   "cell_type": "markdown",
   "metadata": {},
   "source": [
    "## 将int的向量转换为矩阵二进制表示  (★★★)"
   ]
  },
  {
   "cell_type": "code",
   "execution_count": 106,
   "metadata": {},
   "outputs": [
    {
     "name": "stdout",
     "output_type": "stream",
     "text": [
      "[[0 0 0 0 0 0 0 0]\n",
      " [0 0 0 0 0 0 0 1]\n",
      " [0 0 0 0 0 0 1 0]\n",
      " [0 0 0 0 0 0 1 1]\n",
      " [0 0 0 0 1 1 1 1]\n",
      " [0 0 0 1 0 0 0 0]\n",
      " [0 0 1 0 0 0 0 0]\n",
      " [0 1 0 0 0 0 0 0]\n",
      " [1 0 0 0 0 0 0 0]]\n"
     ]
    }
   ],
   "source": [
    "I = np.array([0, 1, 2, 3, 15, 16, 32, 64, 128])\n",
    "B = ((I.reshape(-1,1) & (2**np.arange(8))) != 0).astype(int)\n",
    "print(B[:,::-1])"
   ]
  },
  {
   "cell_type": "code",
   "execution_count": 107,
   "metadata": {},
   "outputs": [
    {
     "name": "stdout",
     "output_type": "stream",
     "text": [
      "[[0 0 0 0 0 0 0 0]\n",
      " [0 0 0 0 0 0 0 1]\n",
      " [0 0 0 0 0 0 1 0]\n",
      " [0 0 0 0 0 0 1 1]\n",
      " [0 0 0 0 1 1 1 1]\n",
      " [0 0 0 1 0 0 0 0]\n",
      " [0 0 1 0 0 0 0 0]\n",
      " [0 1 0 0 0 0 0 0]\n",
      " [1 0 0 0 0 0 0 0]]\n"
     ]
    }
   ],
   "source": [
    "I = np.array([0, 1, 2, 3, 15, 16, 32, 64, 128], dtype=np.uint8)\n",
    "print(np.unpackbits(I[:, np.newaxis], axis=1))"
   ]
  },
  {
   "cell_type": "markdown",
   "metadata": {},
   "source": [
    "## 给定一个二维数组，如何获得唯一的行？(★★★)"
   ]
  },
  {
   "cell_type": "code",
   "execution_count": 108,
   "metadata": {},
   "outputs": [
    {
     "name": "stdout",
     "output_type": "stream",
     "text": [
      "数组Z：\n",
      " [[1 0 1]\n",
      " [0 1 1]\n",
      " [1 1 1]\n",
      " [1 1 0]\n",
      " [1 0 0]\n",
      " [0 1 0]]\n",
      "满足条件的行：\n",
      " [[0 1 0]\n",
      " [0 1 1]\n",
      " [1 0 0]\n",
      " [1 0 1]\n",
      " [1 1 0]\n",
      " [1 1 1]]\n"
     ]
    }
   ],
   "source": [
    "Z = np.random.randint(0,2,(6,3))\n",
    "print(\"数组Z：\\n\", Z)\n",
    "T = np.ascontiguousarray(Z).view(np.dtype((np.void, Z.dtype.itemsize * Z.shape[1])))\n",
    "_, idx = np.unique(T, return_index=True)\n",
    "uZ = Z[idx]\n",
    "print(\"满足条件的行：\\n\", uZ)"
   ]
  },
  {
   "cell_type": "code",
   "execution_count": 109,
   "metadata": {},
   "outputs": [
    {
     "name": "stdout",
     "output_type": "stream",
     "text": [
      "满足条件的行：\n",
      " [[0 1 0]\n",
      " [0 1 1]\n",
      " [1 0 0]\n",
      " [1 0 1]\n",
      " [1 1 0]\n",
      " [1 1 1]]\n"
     ]
    }
   ],
   "source": [
    "uZ = np.unique(Z, axis=0)\n",
    "print(\"满足条件的行：\\n\", uZ)"
   ]
  },
  {
   "cell_type": "markdown",
   "metadata": {},
   "source": [
    "## 已知2个向量A和B，写出einsum等效的inner，outer，sum和mul函数 (★★★)"
   ]
  },
  {
   "cell_type": "code",
   "execution_count": 110,
   "metadata": {},
   "outputs": [
    {
     "name": "stdout",
     "output_type": "stream",
     "text": [
      "A向量：\n",
      " [0.17852193 0.96643717 0.97208705 0.89154435 0.93511994]\n",
      "B向量：\n",
      " [0.23600998 0.93600263 0.924735   0.73101501 0.30909365]\n",
      "np.sum(A)：\n",
      " 3.943710442037092\n",
      "A * B：\n",
      " [0.04213296 0.90458773 0.89892292 0.6517323  0.28903963]\n",
      "np.inner(A, B)：\n",
      " 2.786415539536347\n",
      "np.outer(A, B): \n",
      " [[0.04213296 0.167097   0.16508548 0.13050221 0.05517999]\n",
      " [0.22808881 0.90458773 0.89369828 0.70648007 0.29871959]\n",
      " [0.22942224 0.90987603 0.89892292 0.71061023 0.30046593]\n",
      " [0.21041336 0.83448785 0.82444227 0.6517323  0.27557069]\n",
      " [0.22069764 0.87527472 0.86473814 0.68358671 0.28903963]]\n"
     ]
    }
   ],
   "source": [
    "A = np.random.uniform(0,1,5)\n",
    "B = np.random.uniform(0,1,5)\n",
    "print(\"A向量：\\n\", A)\n",
    "print(\"B向量：\\n\", B)\n",
    "\n",
    "# np.sum(A)\n",
    "print(\"np.sum(A)：\\n\", np.einsum('i->', A))\n",
    "# A * B\n",
    "print(\"A * B：\\n\", np.einsum('i,i->i', A, B)) \n",
    "# np.inner(A, B)\n",
    "print(\"np.inner(A, B)：\\n\", np.einsum('i,i', A, B))\n",
    "# np.outer(A, B)\n",
    "print(\"np.outer(A, B): \\n\", np.einsum('i,j->ij', A, B))    "
   ]
  },
  {
   "cell_type": "markdown",
   "metadata": {},
   "source": [
    "## 已知两个矢量(X,Y)描述的路径，如何使用等距样本对其进行采样？(★★★)\n",
    "Considering a path described by two vectors (X,Y), how to sample it using equidistant samples?"
   ]
  },
  {
   "cell_type": "code",
   "execution_count": 111,
   "metadata": {},
   "outputs": [],
   "source": [
    "phi = np.arange(0, 10*np.pi, 0.1)\n",
    "a = 1\n",
    "x = a*phi*np.cos(phi)\n",
    "y = a*phi*np.sin(phi)\n",
    "\n",
    "# segment lengths\n",
    "dr = (np.diff(x)**2 + np.diff(y)**2)**.5 \n",
    "r = np.zeros_like(x)\n",
    "# integrate path\n",
    "r[1:] = np.cumsum(dr)               \n",
    "# regular spaced path\n",
    "r_int = np.linspace(0, r.max(), 200) \n",
    "# integrate path\n",
    "x_int = np.interp(r_int, r, x)      \n",
    "y_int = np.interp(r_int, r, y)"
   ]
  },
  {
   "cell_type": "markdown",
   "metadata": {},
   "source": [
    "## 给定一个整数n和一个2维数组X，从X中选择具有n度的多项分布的行，即仅包含整数并且总和为n的行 (★★★)"
   ]
  },
  {
   "cell_type": "code",
   "execution_count": 112,
   "metadata": {},
   "outputs": [
    {
     "name": "stdout",
     "output_type": "stream",
     "text": [
      "[[2. 0. 1. 1.]]\n"
     ]
    }
   ],
   "source": [
    "X = np.asarray([[1.0, 0.0, 3.0, 8.0],\n",
    "                [2.0, 0.0, 1.0, 1.0],\n",
    "                [1.5, 2.5, 1.0, 0.0]])\n",
    "n = 4\n",
    "M = np.logical_and.reduce(np.mod(X, 1) == 0, axis=-1)\n",
    "M &= (X.sum(axis=-1) == n)\n",
    "print(X[M])"
   ]
  },
  {
   "cell_type": "markdown",
   "metadata": {},
   "source": [
    "## 计算95％置信区间一维矩阵X的平均值（即重新采样具有替换N次的阵列的元素，计算每个样本的平均值，然后计算均值上的百分位数）(★★★)\n",
    "Compute bootstrapped 95% confidence intervals for the mean of a 1D array X (i.e., resample the elements of an array with replacement N times, compute the mean of each sample, and then compute percentiles over the means). "
   ]
  },
  {
   "cell_type": "code",
   "execution_count": 113,
   "metadata": {
    "scrolled": true
   },
   "outputs": [
    {
     "name": "stdout",
     "output_type": "stream",
     "text": [
      "[-0.00774102  0.41960099]\n"
     ]
    }
   ],
   "source": [
    "X = np.random.randn(100) # random 1D array\n",
    "N = 1000 # number of bootstrap samples\n",
    "idx = np.random.randint(0, X.size, (N, X.size))\n",
    "means = X[idx].mean(axis=1)\n",
    "confint = np.percentile(means, [2.5, 97.5])\n",
    "print(confint)"
   ]
  }
 ],
 "metadata": {
  "kernelspec": {
   "display_name": "Python 3",
   "language": "python",
   "name": "python3"
  },
  "language_info": {
   "codemirror_mode": {
    "name": "ipython",
    "version": 3
   },
   "file_extension": ".py",
   "mimetype": "text/x-python",
   "name": "python",
   "nbconvert_exporter": "python",
   "pygments_lexer": "ipython3",
   "version": "3.7.2"
  },
  "toc": {
   "base_numbering": 1,
   "nav_menu": {},
   "number_sections": true,
   "sideBar": true,
   "skip_h1_title": true,
   "title_cell": "Table of Contents",
   "title_sidebar": "Contents",
   "toc_cell": false,
   "toc_position": {
    "height": "calc(100% - 180px)",
    "left": "10px",
    "top": "150px",
    "width": "273.188px"
   },
   "toc_section_display": true,
   "toc_window_display": false
  }
 },
 "nbformat": 4,
 "nbformat_minor": 2
}
